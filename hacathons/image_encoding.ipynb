{
 "cells": [
  {
   "cell_type": "markdown",
   "metadata": {},
   "source": [
    "# RESOURCES\n",
    "1. https://arxiv.org/pdf/2203.01831.pdf\n",
    "2. https://arxiv.org/pdf/1801.01465.pdf"
   ]
  },
  {
   "cell_type": "code",
   "execution_count": 2,
   "metadata": {},
   "outputs": [],
   "source": [
    "import qiskit\n",
    "from qiskit import quantum_info\n",
    "#from qiskit.execute_function import execute\n",
    "from qiskit_aer import AerSimulator\n",
    "import numpy as np\n",
    "import pickle\n",
    "import json\n",
    "import os\n",
    "from collections import Counter\n",
    "from sklearn.metrics import mean_squared_error\n",
    "from typing import Dict, List\n",
    "import matplotlib.pyplot as plt\n",
    "from qiskit import QuantumCircuit\n",
    "from PIL import Image\n",
    "from sklearn.model_selection import train_test_split\n",
    "from qiskit.circuit.library import ZFeatureMap\n",
    "from qiskit.circuit import ParameterVector\n",
    "from qiskit.quantum_info import SparsePauliOp\n",
    "from qiskit_machine_learning.neural_networks import EstimatorQNN\n",
    "from qiskit_machine_learning.algorithms.classifiers import NeuralNetworkClassifier\n",
    "from qiskit_algorithms.optimizers import COBYLA\n",
    "from PIL import Image\n",
    "import matplotlib.pyplot as plt\n",
    "import sys\n",
    "from qiskit.visualization import plot_histogram, plot_distribution\n",
    "\n",
    "\n",
    "\n",
    "\n",
    "import matplotlib.image as img\n",
    "# from qiskit import *\n",
    "# from qiskit import IBMQ\n",
    "# from qiskit.compiler import transpile, assemble\n",
    "# from qiskit.tools.jupyter import *\n",
    "# from qiskit.visualization import *"
   ]
  },
  {
   "cell_type": "code",
   "execution_count": 119,
   "metadata": {},
   "outputs": [
    {
     "data": {
      "image/png": "[encoded data removed]",
      "text/plain": [
       "<Figure size 640x480 with 1 Axes>"
      ]
     },
     "metadata": {},
     "output_type": "display_data"
    }
   ],
   "source": [
    "image = np.array([[0, 0, 0, 0, 0, 0, 0, 0],\n",
    "                  [0, 1, 1, 1, 1, 1, 0, 0],\n",
    "                  [0, 1, 1, 1, 1, 1, 1, 0],\n",
    "                  [0, 1, 1, 1, 1, 1, 1, 0],\n",
    "                  [0, 1, 1, 0, 1, 1, 1, 0],\n",
    "                  [0, 0, 0, 1, 1, 1, 1, 0],\n",
    "                  [0, 0, 0, 1, 1, 1, 1, 0],\n",
    "                  [0, 0, 0, 0, 0, 0, 0, 1]])\n",
    "            \n",
    "#image = np.array((1,1,1,1)).reshape(2,2)\n",
    "#image = np.array((3,2,2,3)).reshape(2,2)\n",
    "# image = np.array((1,2,3,4)).reshape(2,2)\n",
    "image = np.array((4,1,1,1,1,1,1,4)).reshape(2,4)\n",
    "#image = np.array((1,2,3,4,1,2,3,4)).reshape(2,4)\n",
    "image_path = '/workspaces/QC/murat.jpeg'  # Specify the path to your image file\n",
    "#image = img.imread(image_path)[:,:,2].reshape(275,183)\n",
    "#plt.imshow(image, cmap='gray', interpolation='nearest')\n",
    "plt.imshow(image)\n",
    "# np.where(image==0)[0].shape\n",
    "\n",
    "from PIL import Image\n",
    "#Open the image\n",
    "# image = Image.open(image_path)\n",
    "# image = image.resize((4, 8))\n",
    "# image = np.array(image)[:,:,2]\n",
    "# print(np.where(image==0))\n",
    "# plt.imshow(image)"
   ]
  },
  {
   "cell_type": "code",
   "execution_count": 103,
   "metadata": {},
   "outputs": [
    {
     "name": "stdout",
     "output_type": "stream",
     "text": [
      "(32, 32, 3)\n"
     ]
    },
    {
     "data": {
      "image/png": "[encoded data removed]",
      "text/plain": [
       "<Figure size 640x480 with 1 Axes>"
      ]
     },
     "metadata": {},
     "output_type": "display_data"
    }
   ],
   "source": [
    "def classical_encode(image, M=349, N=351):\n",
    "  \"\"\"\n",
    "  image:ndarray -> array of rgb data of shape (3, w, h)\n",
    "  M:int -> first modular base\n",
    "  N:int -> second modular base\n",
    "\n",
    "  returns:\n",
    "  modular_image:ndarray -> array of modular encoded rgb image of shape (w,h)\n",
    "  \"\"\"\n",
    "  r,g,b = image[0], image[1], image[2]\n",
    "  M,N = 349,351\n",
    "  modular_image = (r*M*N)+(g*N)+b\n",
    "  return modular_image\n",
    "\n",
    "def classical_decode(modular_image, M=349, N=351):\n",
    "  \"\"\"\n",
    "  modular_image:ndarray -> array of modular encoded rgb image \n",
    "  M:int -> first modular base\n",
    "  N:int -> second modular base\n",
    "\n",
    "  returns:\n",
    "  reconstructed_image:ndarray -> reconstructed rgb image from modular_image \n",
    "  \"\"\"\n",
    "  r=modular_image%N\n",
    "  g=(modular_image//N)%M\n",
    "  b=(modular_image//(M*N))%M\n",
    "  # reconstructed_image = np.stack((r,g,b),axis=0)\n",
    "  reconstructed_image = np.stack((b,g,r),axis=0)\n",
    "  return reconstructed_image\n",
    "\n",
    "def get_qubits(image_width, image_height):\n",
    "    num_qubits = np.ceil(np.log2(3* image_width * image_height))\n",
    "    return int(num_qubits)\n",
    "\n",
    "#mage_c = np.random.randint(1, 255, size=24).reshape(3,2,4)\n",
    "#image = np.array((3,2,2,3,3,2,2,3)).reshape(2,4)\n",
    "from PIL import Image\n",
    "#Open the image\n",
    "image_width = 32\n",
    "image_height = 32\n",
    "image_path = '/workspaces/QC/murat.jpeg'\n",
    "image = Image.open(image_path)\n",
    "image = image.resize((image_width, image_height))\n",
    "image = np.array(image)\n",
    "print(image.shape)\n",
    "plt.imshow(image)\n",
    "\n",
    "image = classical_encode(image)\n",
    "#reconstructed_image = classical_decode(image)\n"
   ]
  },
  {
   "cell_type": "code",
   "execution_count": 104,
   "metadata": {},
   "outputs": [
    {
     "name": "stdout",
     "output_type": "stream",
     "text": [
      "Sum of pixel values to initialse qubits to sum to: 1.0\n"
     ]
    }
   ],
   "source": [
    "def amplitude_encode(img_data):\n",
    "    # Calculate the RMS value\n",
    "    img_w, img_h = img_data.shape[0], img_data.shape[1]\n",
    "    #print('--------',img_data.shape[0])\n",
    "    pixel_num = img_w*img_h\n",
    "    img_max = np.max(img_data)\n",
    "    norm_img = img_data/img_max\n",
    "    norm_sq = norm_img**2\n",
    "    norm_sq_sum = np.sum(np.sum(norm_sq, axis=1))\n",
    "    norm_sq_sum_root = np.sqrt(norm_sq_sum)\n",
    "\n",
    "    temp = norm_img/norm_sq_sum_root\n",
    "    print(\"Sum of pixel values to initialse qubits to sum to:\", np.sum(temp**2))\n",
    "\n",
    "    return temp.reshape(pixel_num), norm_sq_sum_root, pixel_num, img_max\n",
    "\n",
    "test_img = np.array((1,1,1,9,1,9876549,1,1,678,1)).reshape(5,2)\n",
    "amplitude_encoded, rms, pixel_num, img_max = amplitude_encode(image)"
   ]
  },
  {
   "cell_type": "code",
   "execution_count": 105,
   "metadata": {},
   "outputs": [
    {
     "name": "stdout",
     "output_type": "stream",
     "text": [
      "12\n"
     ]
    },
    {
     "ename": "QiskitError",
     "evalue": "'Desired statevector length not a positive power of 2.'",
     "output_type": "error",
     "traceback": [
      "\u001b[0;31m---------------------------------------------------------------------------\u001b[0m",
      "\u001b[0;31mQiskitError\u001b[0m                               Traceback (most recent call last)",
      "Cell \u001b[0;32mIn[105], line 8\u001b[0m\n\u001b[1;32m      6\u001b[0m \u001b[38;5;28mprint\u001b[39m(num_qubits)\n\u001b[1;32m      7\u001b[0m qc\u001b[38;5;241m=\u001b[39m QuantumCircuit(num_qubits)\n\u001b[0;32m----> 8\u001b[0m \u001b[43mqc\u001b[49m\u001b[38;5;241;43m.\u001b[39;49m\u001b[43minitialize\u001b[49m\u001b[43m(\u001b[49m\u001b[43mamplitude_encoded\u001b[49m\u001b[43m,\u001b[49m\u001b[43m \u001b[49m\u001b[38;5;28;43mrange\u001b[39;49m\u001b[43m(\u001b[49m\u001b[38;5;241;43m0\u001b[39;49m\u001b[43m,\u001b[49m\u001b[43m \u001b[49m\u001b[43mnum_qubits\u001b[49m\u001b[43m)\u001b[49m\u001b[43m)\u001b[49m\n\u001b[1;32m      9\u001b[0m qc\u001b[38;5;241m.\u001b[39mmeasure_all()\n\u001b[1;32m     10\u001b[0m result \u001b[38;5;241m=\u001b[39m AerSimulator(enable_truncation\u001b[38;5;241m=\u001b[39m\u001b[38;5;28;01mTrue\u001b[39;00m,shots\u001b[38;5;241m=\u001b[39m\u001b[38;5;241m10000\u001b[39m)\u001b[38;5;241m.\u001b[39mrun(qc)\u001b[38;5;241m.\u001b[39mresult()\n",
      "File \u001b[0;32m/workspaces/QC/qc/lib/python3.10/site-packages/qiskit/circuit/quantumcircuit.py:4178\u001b[0m, in \u001b[0;36mQuantumCircuit.initialize\u001b[0;34m(self, params, qubits, normalize)\u001b[0m\n\u001b[1;32m   4174\u001b[0m     qubits \u001b[38;5;241m=\u001b[39m [qubits]\n\u001b[1;32m   4176\u001b[0m num_qubits \u001b[38;5;241m=\u001b[39m \u001b[38;5;28mlen\u001b[39m(qubits) \u001b[38;5;28;01mif\u001b[39;00m \u001b[38;5;28misinstance\u001b[39m(params, \u001b[38;5;28mint\u001b[39m) \u001b[38;5;28;01melse\u001b[39;00m \u001b[38;5;28;01mNone\u001b[39;00m\n\u001b[0;32m-> 4178\u001b[0m \u001b[38;5;28;01mreturn\u001b[39;00m \u001b[38;5;28mself\u001b[39m\u001b[38;5;241m.\u001b[39mappend(\u001b[43mInitialize\u001b[49m\u001b[43m(\u001b[49m\u001b[43mparams\u001b[49m\u001b[43m,\u001b[49m\u001b[43m \u001b[49m\u001b[43mnum_qubits\u001b[49m\u001b[43m,\u001b[49m\u001b[43m \u001b[49m\u001b[43mnormalize\u001b[49m\u001b[43m)\u001b[49m, qubits)\n",
      "File \u001b[0;32m/workspaces/QC/qc/lib/python3.10/site-packages/qiskit/circuit/library/data_preparation/initializer.py:66\u001b[0m, in \u001b[0;36mInitialize.__init__\u001b[0;34m(self, params, num_qubits, normalize)\u001b[0m\n\u001b[1;32m     41\u001b[0m \u001b[38;5;28;01mdef\u001b[39;00m \u001b[38;5;21m__init__\u001b[39m(\n\u001b[1;32m     42\u001b[0m     \u001b[38;5;28mself\u001b[39m,\n\u001b[1;32m     43\u001b[0m     params: Statevector \u001b[38;5;241m|\u001b[39m Sequence[\u001b[38;5;28mcomplex\u001b[39m] \u001b[38;5;241m|\u001b[39m \u001b[38;5;28mstr\u001b[39m \u001b[38;5;241m|\u001b[39m \u001b[38;5;28mint\u001b[39m,\n\u001b[1;32m     44\u001b[0m     num_qubits: \u001b[38;5;28mint\u001b[39m \u001b[38;5;241m|\u001b[39m \u001b[38;5;28;01mNone\u001b[39;00m \u001b[38;5;241m=\u001b[39m \u001b[38;5;28;01mNone\u001b[39;00m,\n\u001b[1;32m     45\u001b[0m     normalize: \u001b[38;5;28mbool\u001b[39m \u001b[38;5;241m=\u001b[39m \u001b[38;5;28;01mFalse\u001b[39;00m,\n\u001b[1;32m     46\u001b[0m ) \u001b[38;5;241m-\u001b[39m\u001b[38;5;241m>\u001b[39m \u001b[38;5;28;01mNone\u001b[39;00m:\n\u001b[1;32m     47\u001b[0m \u001b[38;5;250m    \u001b[39m\u001b[38;5;124mr\u001b[39m\u001b[38;5;124;03m\"\"\"\u001b[39;00m\n\u001b[1;32m     48\u001b[0m \u001b[38;5;124;03m    Args:\u001b[39;00m\n\u001b[1;32m     49\u001b[0m \u001b[38;5;124;03m        params: The state to initialize to, can be either of the following.\u001b[39;00m\n\u001b[0;32m   (...)\u001b[0m\n\u001b[1;32m     64\u001b[0m \u001b[38;5;124;03m        normalize: Whether to normalize an input array to a unit vector.\u001b[39;00m\n\u001b[1;32m     65\u001b[0m \u001b[38;5;124;03m    \"\"\"\u001b[39;00m\n\u001b[0;32m---> 66\u001b[0m     \u001b[38;5;28mself\u001b[39m\u001b[38;5;241m.\u001b[39m_stateprep \u001b[38;5;241m=\u001b[39m \u001b[43mStatePreparation\u001b[49m\u001b[43m(\u001b[49m\u001b[43mparams\u001b[49m\u001b[43m,\u001b[49m\u001b[43m \u001b[49m\u001b[43mnum_qubits\u001b[49m\u001b[43m,\u001b[49m\u001b[43m \u001b[49m\u001b[43mnormalize\u001b[49m\u001b[38;5;241;43m=\u001b[39;49m\u001b[43mnormalize\u001b[49m\u001b[43m)\u001b[49m\n\u001b[1;32m     68\u001b[0m     \u001b[38;5;28msuper\u001b[39m()\u001b[38;5;241m.\u001b[39m\u001b[38;5;21m__init__\u001b[39m(\u001b[38;5;124m\"\u001b[39m\u001b[38;5;124minitialize\u001b[39m\u001b[38;5;124m\"\u001b[39m, \u001b[38;5;28mself\u001b[39m\u001b[38;5;241m.\u001b[39m_stateprep\u001b[38;5;241m.\u001b[39mnum_qubits, \u001b[38;5;241m0\u001b[39m, \u001b[38;5;28mself\u001b[39m\u001b[38;5;241m.\u001b[39m_stateprep\u001b[38;5;241m.\u001b[39mparams)\n",
      "File \u001b[0;32m/workspaces/QC/qc/lib/python3.10/site-packages/qiskit/circuit/library/data_preparation/state_preparation.py:110\u001b[0m, in \u001b[0;36mStatePreparation.__init__\u001b[0;34m(self, params, num_qubits, inverse, label, normalize)\u001b[0m\n\u001b[1;32m    107\u001b[0m     \u001b[38;5;28;01melif\u001b[39;00m \u001b[38;5;129;01mnot\u001b[39;00m math\u001b[38;5;241m.\u001b[39misclose(norm, \u001b[38;5;241m1.0\u001b[39m, abs_tol\u001b[38;5;241m=\u001b[39m_EPS):\n\u001b[1;32m    108\u001b[0m         \u001b[38;5;28;01mraise\u001b[39;00m QiskitError(\u001b[38;5;124mf\u001b[39m\u001b[38;5;124m\"\u001b[39m\u001b[38;5;124mSum of amplitudes-squared is not 1, but \u001b[39m\u001b[38;5;132;01m{\u001b[39;00mnorm\u001b[38;5;132;01m}\u001b[39;00m\u001b[38;5;124m.\u001b[39m\u001b[38;5;124m\"\u001b[39m)\n\u001b[0;32m--> 110\u001b[0m num_qubits \u001b[38;5;241m=\u001b[39m \u001b[38;5;28;43mself\u001b[39;49m\u001b[38;5;241;43m.\u001b[39;49m\u001b[43m_get_num_qubits\u001b[49m\u001b[43m(\u001b[49m\u001b[43mnum_qubits\u001b[49m\u001b[43m,\u001b[49m\u001b[43m \u001b[49m\u001b[43mparams\u001b[49m\u001b[43m)\u001b[49m\n\u001b[1;32m    111\u001b[0m params \u001b[38;5;241m=\u001b[39m [params] \u001b[38;5;28;01mif\u001b[39;00m \u001b[38;5;28misinstance\u001b[39m(params, \u001b[38;5;28mint\u001b[39m) \u001b[38;5;28;01melse\u001b[39;00m params\n\u001b[1;32m    113\u001b[0m \u001b[38;5;28msuper\u001b[39m()\u001b[38;5;241m.\u001b[39m\u001b[38;5;21m__init__\u001b[39m(\u001b[38;5;28mself\u001b[39m\u001b[38;5;241m.\u001b[39m_name, num_qubits, params, label\u001b[38;5;241m=\u001b[39m\u001b[38;5;28mself\u001b[39m\u001b[38;5;241m.\u001b[39m_label)\n",
      "File \u001b[0;32m/workspaces/QC/qc/lib/python3.10/site-packages/qiskit/circuit/library/data_preparation/state_preparation.py:208\u001b[0m, in \u001b[0;36mStatePreparation._get_num_qubits\u001b[0;34m(self, num_qubits, params)\u001b[0m\n\u001b[1;32m    206\u001b[0m     \u001b[38;5;66;03m# Check if param is a power of 2\u001b[39;00m\n\u001b[1;32m    207\u001b[0m     \u001b[38;5;28;01mif\u001b[39;00m num_qubits \u001b[38;5;241m==\u001b[39m \u001b[38;5;241m0\u001b[39m \u001b[38;5;129;01mor\u001b[39;00m \u001b[38;5;129;01mnot\u001b[39;00m num_qubits\u001b[38;5;241m.\u001b[39mis_integer():\n\u001b[0;32m--> 208\u001b[0m         \u001b[38;5;28;01mraise\u001b[39;00m QiskitError(\u001b[38;5;124m\"\u001b[39m\u001b[38;5;124mDesired statevector length not a positive power of 2.\u001b[39m\u001b[38;5;124m\"\u001b[39m)\n\u001b[1;32m    210\u001b[0m     num_qubits \u001b[38;5;241m=\u001b[39m \u001b[38;5;28mint\u001b[39m(num_qubits)\n\u001b[1;32m    211\u001b[0m \u001b[38;5;28;01mreturn\u001b[39;00m num_qubits\n",
      "\u001b[0;31mQiskitError\u001b[0m: 'Desired statevector length not a positive power of 2.'"
     ]
    }
   ],
   "source": [
    "# from qiskit import QuantumCircuit\n",
    "#from qiskit.quantum_info import Statevector\n",
    "# from qiskit import transpile\n",
    "\n",
    "num_qubits = get_qubits(image_width=image_width, image_height=image_height)\n",
    "print(num_qubits)\n",
    "qc= QuantumCircuit(num_qubits)\n",
    "qc.initialize(amplitude_encoded, range(0, num_qubits))\n",
    "qc.measure_all()\n",
    "result = AerSimulator(enable_truncation=True,shots=10000).run(qc).result()\n",
    "statistics = result.get_counts(qc)\n",
    "display(plot_histogram(statistics))\n",
    "sorted_statistics = dict(sorted(statistics.items(), key=lambda x: x[0]))\n",
    "print(sorted_statistics)\n",
    "\n",
    "\n"
   ]
  },
  {
   "cell_type": "code",
   "execution_count": 84,
   "metadata": {},
   "outputs": [
    {
     "data": {
      "text/plain": [
       "{'000': 1679511,\n",
       " '001': 1071809,\n",
       " '010': 2593943,\n",
       " '011': 31870,\n",
       " '100': 78531,\n",
       " '101': 1403900,\n",
       " '110': 2107,\n",
       " '111': 3138329}"
      ]
     },
     "execution_count": 84,
     "metadata": {},
     "output_type": "execute_result"
    }
   ],
   "source": [
    "basis_states = sorted(list(dict(statistics).keys()))\n",
    "sorted_statistics = dict(sorted(statistics.items(), key=lambda x: x[0]))\n",
    "sorted_statistics"
   ]
  },
  {
   "cell_type": "code",
   "execution_count": 85,
   "metadata": {},
   "outputs": [],
   "source": [
    "amplitudes = np.array(list(dict(sorted_statistics).values()))\n",
    "probabilities = amplitudes/np.sum(amplitudes)\n",
    "decoded_result = np.sqrt(probabilities)\n",
    "decoded_result = decoded_result*(rms)*img_max\n",
    "decoded_result = decoded_result.reshape(image.shape)\n",
    "#print(decoded_img)\n",
    "decoded_result = np.round(decoded_result)\n",
    "decoded_result = decoded_result.astype(int)\n",
    "# print(decoded_result/max(decoded_result))\n",
    "# print(image)\n",
    "\n"
   ]
  },
  {
   "cell_type": "code",
   "execution_count": 86,
   "metadata": {},
   "outputs": [
    {
     "name": "stderr",
     "output_type": "stream",
     "text": [
      "Clipping input data to the valid range for imshow with RGB data ([0..1] for floats or [0..255] for integers).\n"
     ]
    },
    {
     "data": {
      "image/png": "[encoded data removed]",
      "text/plain": [
       "<Figure size 640x480 with 4 Axes>"
      ]
     },
     "metadata": {},
     "output_type": "display_data"
    }
   ],
   "source": [
    "reconstructed_image = classical_decode(decoded_result)\n",
    "\n",
    "\n",
    "fig, axs = plt.subplots(1, 4)\n",
    "axs[0].imshow(image_c)\n",
    "axs[0].axis('off')\n",
    "axs[1].imshow(image/np.max(image))\n",
    "axs[1].axis('off')\n",
    "axs[2].imshow(decoded_result/np.max(decoded_result))\n",
    "axs[2].axis('off')\n",
    "axs[3].imshow(reconstructed_image)\n",
    "axs[3].axis('off')\n",
    "plt.subplots_adjust(wspace=0.2)\n",
    "plt.show()"
   ]
  },
  {
   "cell_type": "code",
   "execution_count": 80,
   "metadata": {},
   "outputs": [
    {
     "name": "stdout",
     "output_type": "stream",
     "text": [
      "[[3 2 2 3]\n",
      " [3 2 2 3]]\n",
      "[[3 2 2 3]\n",
      " [3 2 2 3]]\n"
     ]
    },
    {
     "data": {
      "image/png": "[encoded data removed]",
      "text/plain": [
       "<Figure size 640x480 with 2 Axes>"
      ]
     },
     "metadata": {},
     "output_type": "display_data"
    }
   ],
   "source": [
    "print(image)\n",
    "print(decoded_result)\n",
    "fig, axs = plt.subplots(1, 2)\n",
    "axs[0].imshow(image)\n",
    "axs[0].axis('off')\n",
    "axs[1].imshow(decoded_result)\n",
    "axs[1].axis('off')\n",
    "plt.show()"
   ]
  },
  {
   "cell_type": "code",
   "execution_count": 13,
   "metadata": {},
   "outputs": [
    {
     "name": "stdout",
     "output_type": "stream",
     "text": [
      "(0, 0, 0, 0, 0)\n",
      "(0, 0, 0, 0, 1)\n",
      "(0, 0, 0, 1, 0)\n",
      "(0, 0, 0, 1, 1)\n",
      "(0, 0, 1, 0, 0)\n",
      "(0, 0, 1, 0, 1)\n",
      "(0, 0, 1, 1, 0)\n",
      "(0, 0, 1, 1, 1)\n",
      "(0, 1, 0, 0, 0)\n",
      "(0, 1, 0, 0, 1)\n",
      "(0, 1, 0, 1, 0)\n",
      "(0, 1, 0, 1, 1)\n",
      "(0, 1, 1, 0, 0)\n",
      "(0, 1, 1, 0, 1)\n",
      "(0, 1, 1, 1, 0)\n",
      "(0, 1, 1, 1, 1)\n",
      "(1, 0, 0, 0, 0)\n",
      "(1, 0, 0, 0, 1)\n",
      "(1, 0, 0, 1, 0)\n",
      "(1, 0, 0, 1, 1)\n",
      "(1, 0, 1, 0, 0)\n",
      "(1, 0, 1, 0, 1)\n",
      "(1, 0, 1, 1, 0)\n",
      "(1, 0, 1, 1, 1)\n",
      "(1, 1, 0, 0, 0)\n",
      "(1, 1, 0, 0, 1)\n",
      "(1, 1, 0, 1, 0)\n",
      "(1, 1, 0, 1, 1)\n",
      "(1, 1, 1, 0, 0)\n",
      "(1, 1, 1, 0, 1)\n",
      "(1, 1, 1, 1, 0)\n",
      "(1, 1, 1, 1, 1)\n"
     ]
    }
   ],
   "source": [
    "from itertools import product\n",
    "\n",
    "# Generate all combinations of arranging 0s and 1s in groups of 5\n",
    "combinations = list(product([0, 1], repeat=5))\n",
    "\n",
    "# Print the combinations\n",
    "for combination in combinations:\n",
    "    print(combination)"
   ]
  },
  {
   "cell_type": "code",
   "execution_count": 51,
   "metadata": {},
   "outputs": [
    {
     "name": "stdout",
     "output_type": "stream",
     "text": [
      "Depth:  3\n",
      "Probabilities dict from statevector:  {'000': 0.5, '111': 0.5}\n"
     ]
    },
    {
     "data": {
      "image/png": "[encoded data removed]",
      "text/plain": [
       "<Figure size 371.107x284.278 with 1 Axes>"
      ]
     },
     "execution_count": 51,
     "metadata": {},
     "output_type": "execute_result"
    }
   ],
   "source": [
    "three_ghz = QuantumCircuit(3)\n",
    "three_ghz.h(0)\n",
    "three_ghz.cx(0,1)\n",
    "three_ghz.cx(0,2) #alternativelya, you can use a cnot/cx gate here with qubit 1 (control) and qubit 2 (target)\n",
    "depth = three_ghz.depth()\n",
    "sv = Statevector.from_instruction(three_ghz).probabilities_dict(decimals=1)\n",
    "print('Depth: ', depth)\n",
    "print('Probabilities dict from statevector: ', sv)\n",
    "three_ghz.draw('mpl')"
   ]
  },
  {
   "cell_type": "code",
   "execution_count": 7,
   "metadata": {},
   "outputs": [],
   "source": [
    "# Initialize some global variable for number of qubits\n",
    "data_qb = 6\n",
    "anc_qb = 1\n",
    "total_qb = data_qb + anc_qb\n",
    "\n",
    "# Initialize the amplitude permutation unitary\n",
    "D2n_1 = np.roll(np.identity(2**total_qb), 1, axis=1)\n",
    "\n",
    "# def understand_np_dot_roll():\n",
    "#     arr = np.random.randint(1, 9, 16).reshape(4,4) * np.identity(4)\n",
    "#     print(\"Random matrix generated\\n\", arr)\n",
    "#     print(\"Shifting image by 1 in axis=1(x-axis)\\n\", np.roll(arr, 1, axis=1))\n",
    "#     print(\"Shifting image by 1 in axis=1(x-axis) and by 1 in axis=0(y-axis) \\n\", np.roll(arr, (1,1), axis=(0,1)))\n",
    "# understand_np_dot_roll()"
   ]
  },
  {
   "cell_type": "code",
   "execution_count": 30,
   "metadata": {},
   "outputs": [
    {
     "ename": "NameError",
     "evalue": "name 'images' is not defined",
     "output_type": "error",
     "traceback": [
      "\u001b[0;31m---------------------------------------------------------------------------\u001b[0m",
      "\u001b[0;31mNameError\u001b[0m                                 Traceback (most recent call last)",
      "Cell \u001b[0;32mIn[30], line 2\u001b[0m\n\u001b[1;32m      1\u001b[0m \u001b[38;5;66;03m#submission to part 1, you should make this into a .py file\u001b[39;00m\n\u001b[0;32m----> 2\u001b[0m n\u001b[38;5;241m=\u001b[39m\u001b[38;5;28mlen\u001b[39m(\u001b[43mimages\u001b[49m)\n\u001b[1;32m      3\u001b[0m mse\u001b[38;5;241m=\u001b[39m\u001b[38;5;241m0\u001b[39m\n\u001b[1;32m      4\u001b[0m gatecount\u001b[38;5;241m=\u001b[39m\u001b[38;5;241m0\u001b[39m\n",
      "\u001b[0;31mNameError\u001b[0m: name 'images' is not defined"
     ]
    }
   ],
   "source": [
    "#submission to part 1, you should make this into a .py file\n",
    "n=len(images)\n",
    "mse=0\n",
    "gatecount=0\n",
    "num_qubits = 8\n",
    "\n",
    "\n",
    "def plot_image(img, title='Reconstructed image'):\n",
    "    plt.title(title)\n",
    "    plt.xticks(range(img.shape[0]))\n",
    "    plt.yticks(range(img.shape[1]))\n",
    "    plt.imshow(img, extent=[0, img.shape[0], img.shape[1], 0], cmap='viridis')\n",
    "    plt.show()\n",
    "    \n",
    "def encode(image):\n",
    "    image_norm_h, rms, pixel_num = amplitude_encode(image)\n",
    "    num_qubits = int(np.log2(pixel_num))\n",
    "    print(f\"{num_qubits} initialised for this image\")\n",
    "    qc_h = QuantumCircuit(num_qubits)\n",
    "    qc_h.initialize(image_norm_h, range(0, num_qubits))\n",
    "    return qc_h, rms, num_qubits\n",
    "\n",
    "def simulate(circuit, show_histogram=True):\n",
    "    backend = Aer.get_backend('statevector_simulator')\n",
    "    job = execute(circuit, backend)\n",
    "    result = job.result()\n",
    "    statevector = result.get_statevector()\n",
    "    probabilities = np.array(np.abs(statevector)**2)\n",
    "    if show_histogram:\n",
    "        plt.bar(range((2**circuit.num_qubits)), probabilities)\n",
    "        plt.xlabel('Basis State')\n",
    "        plt.ylabel('Probability')\n",
    "        plt.show()\n",
    "    return probabilities\n",
    "\n",
    "def decode(probabilities, rms):\n",
    "    prob_sqrt = np.sqrt(probabilities)\n",
    "    reconstructed_image = prob_sqrt * rms\n",
    "    dim = int(np.sqrt(len(reconstructed_image)))\n",
    "    return reconstructed_image.reshape(dim, dim)\n",
    "\n",
    "def run_part1(image):\n",
    "    #encode image into a circuit\n",
    "    circuit, rms, num_qubits = encode(image)\n",
    "\n",
    "    #simulate circuit\n",
    "    histogram=simulate(circuit, show_histogram=False)\n",
    "\n",
    "    #reconstruct the image\n",
    "    image_re=decode(histogram, rms)\n",
    "\n",
    "    return circuit,image_re, num_qubits \n",
    "\n",
    "def resize_iamges(dataset, resized_dimention=16):\n",
    "    temp_dataset = np.empty((dataset.shape[0], resized_dimention, resized_dimention))\n",
    "    for index,img in dataset:\n",
    "        img = Image.fromarray(img)\n",
    "        img = np.array(img.resize((resized_dimention, resized_dimention)))\n",
    "        temp_dataset[index] = img\n",
    "    return temp_dataset\n",
    "\n",
    "\n",
    "\n",
    "\n",
    "qubits_list = list(range(num_qubits))\n",
    "feature_map = ZFeatureMap(num_qubits)  # initialise feature map to capture total pixels\n",
    "\n",
    "ansatz = QuantumCircuit(8, name=\"Ansatz\")\n",
    "\n",
    "# First Convolutional Layer\n",
    "ansatz.compose(conv_layer(8, \"с1\"), qubits=list(range(8)), inplace=True)\n",
    "# First Pooling Layer\n",
    "ansatz.compose(pool_layer([0, 1, 2, 3], [4, 5, 6, 7], \"p1\"), list(range(8)), inplace=True)\n",
    "\n",
    "# Second Convolutional Layer\n",
    "ansatz.compose(conv_layer(4, \"c2\"), list(range(4, 8)), inplace=True)\n",
    "# Second Pooling Layer\n",
    "ansatz.compose(pool_layer([0, 1], [2, 3], \"p2\"), list(range(4, 8)), inplace=True)\n",
    "\n",
    "# Third Convolutional Layer\n",
    "ansatz.compose(conv_layer(2, \"c3\"), list(range(6, 8)), inplace=True)\n",
    "# Third Pooling Layer\n",
    "ansatz.compose(pool_layer([0], [1], \"p3\"), list(range(6, 8)), inplace=True)\n",
    "   \n",
    "\n",
    "#print(ansatz.parameters)\n",
    "circuit.compose(feature_map, range(8), inplace=True)\n",
    "#circuit.append(feature_map, range(num_qubits))\n",
    "circuit.compose(ansatz, range(8), inplace=True)\n",
    "#circuit.append(ansatz, range(num_qubits))\n",
    "\n",
    "#circuit.decompose().draw(\"mpl\", fold=-1)\n",
    "\n",
    "# circuit2, test_image2 = run_part1(img.T)\n",
    "#plot_image(test_image)"
   ]
  },
  {
   "cell_type": "code",
   "execution_count": null,
   "metadata": {},
   "outputs": [],
   "source": [
    "observable = SparsePauliOp.from_list([(\"Z\" + \"I\" * 7, 1)])\n",
    "\n",
    "# we decompose the circuit for the QNN to avoid additional data copying\n",
    "qnn = EstimatorQNN(\n",
    "    circuit=circuit.decompose(),\n",
    "    observables=observable,\n",
    "    input_params=feature_map.parameters,\n",
    "    weight_params=ansatz.parameters,\n",
    ")"
   ]
  },
  {
   "cell_type": "code",
   "execution_count": null,
   "metadata": {},
   "outputs": [],
   "source": [
    "x = np.asarray(train_images)\n",
    "y = np.asarray(train_labels)\n",
    "objective_func_vals = []\n",
    "\n",
    "def callback_graph(weights, obj_func_eval):\n",
    "    clear_output(wait=True)\n",
    "    objective_func_vals.append(obj_func_eval)\n",
    "    plt.title(\"Objective function value against iteration\")\n",
    "    plt.xlabel(\"Iteration\")\n",
    "    plt.ylabel(\"Objective function value\")\n",
    "    plt.plot(range(len(objective_func_vals)), objective_func_vals)\n",
    "    plt.show()\n",
    "\n",
    "classifier = NeuralNetworkClassifier(\n",
    "    qnn,\n",
    "    optimizer=COBYLA(maxiter=10),  # Set max iterations here\n",
    "    callback=callback_graph\n",
    ")"
   ]
  },
  {
   "cell_type": "code",
   "execution_count": null,
   "metadata": {},
   "outputs": [],
   "source": [
    "train_images = resize_images(train_images, resized_dimention=16)\n",
    "test_images = resize_images(test_images, resized_dimention=16)\n",
    "\n",
    "classifier.fit(train_images, train_labels)\n",
    "\n",
    "plt.rcParams[\"figure.figsize\"] = (12, 6)\n",
    "# score classifier\n",
    "print(f\"Accuracy from the train data : {np.round(100 * classifier.score(x, y), 2)}%\")"
   ]
  },
  {
   "cell_type": "code",
   "execution_count": null,
   "metadata": {},
   "outputs": [],
   "source": [
    "#how we grade your submission\n",
    "\n",
    "n=len(images)\n",
    "mse=0\n",
    "gatecount=0\n",
    "\n",
    "for data in images:\n",
    "    #encode image into circuit\n",
    "    circuit,image_re=run_part1(data['image'])\n",
    "    \n",
    "    #count the number of 2qubit gates used\n",
    "    gatecount+=count_gates(circuit)[2]\n",
    "    \n",
    "    #calculate mse\n",
    "    mse+=image_mse(data['image'],image_re)\n",
    "    \n",
    "#fidelity of reconstruction\n",
    "f=1-mse/n\n",
    "gatecount=gatecount/n\n",
    "\n",
    "#score for part1 \n",
    "print(f*(0.999**gatecount))"
   ]
  },
  {
   "cell_type": "code",
   "execution_count": null,
   "metadata": {},
   "outputs": [],
   "source": [
    "def conv_circuit(params):\n",
    "    \"\"\"\n",
    "    params is a parameter vector\n",
    "    \"\"\"\n",
    "    target = QuantumCircuit(2)\n",
    "    target.rz(-np.pi / 2, 1)\n",
    "    target.cx(1, 0)\n",
    "    target.rz(params[0], 0)\n",
    "    target.ry(params[1], 1)\n",
    "    target.cx(0, 1)\n",
    "    target.ry(params[2], 1)\n",
    "    target.cx(1, 0)\n",
    "    target.rz(np.pi / 2, 0)\n",
    "    return target\n",
    "\n",
    "# # Let's draw this circuit and see what it looks like\n",
    "# params = ParameterVector(\"θ\", length=3)\n",
    "# circuit = conv_circuit(params)\n",
    "# circuit.draw(\"mpl\")\n",
    "\n",
    "def conv_layer(num_qubits, param_prefix):\n",
    "    qc = QuantumCircuit(num_qubits, name=\"Convolutional Layer\")\n",
    "    qubits = list(range(num_qubits))\n",
    "    param_index = 0\n",
    "    params = ParameterVector(param_prefix, length=num_qubits * 3)\n",
    "    for q1, q2 in zip(qubits[0::2], qubits[1::2]):\n",
    "        qc = qc.compose(conv_circuit(params[param_index : (param_index + 3)]), [q1, q2])\n",
    "        qc.barrier()\n",
    "        param_index += 3\n",
    "        #print('qi',q1,'q2',q2)\n",
    "    for q1, q2 in zip(qubits[1::2], qubits[2::2] + [0]):\n",
    "        qc = qc.compose(conv_circuit(params[param_index : (param_index + 3)]), [q1, q2])\n",
    "        qc.barrier()\n",
    "        param_index += 3\n",
    "\n",
    "    qc_inst = qc.to_instruction()\n",
    "\n",
    "    qc = QuantumCircuit(num_qubits)\n",
    "    qc.append(qc_inst, qubits)\n",
    "    return qc\n",
    "\n",
    "# circuit = conv_layer(4, \"θ\")\n",
    "# circuit.decompose().draw(\"mpl\", fold=100)\n",
    "\n",
    "\n",
    "def pool_circuit(params):\n",
    "    target = QuantumCircuit(2)\n",
    "    target.rz(-np.pi / 2, 1)\n",
    "    target.cx(1, 0)\n",
    "    target.rz(params[0], 0)\n",
    "    target.ry(params[1], 1)\n",
    "    target.cx(0, 1)\n",
    "    target.ry(params[2], 1)\n",
    "\n",
    "    return target\n",
    "\n",
    "# params = ParameterVector(\"θ\", length=3)\n",
    "# circuit = pool_circuit(params)\n",
    "# circuit.draw(\"mpl\")\n",
    "\n",
    "\n",
    "def pool_layer(sources, sinks, param_prefix):\n",
    "    num_qubits = len(sources) + len(sinks)\n",
    "    qc = QuantumCircuit(num_qubits, name=\"Pooling Layer\")\n",
    "    param_index = 0\n",
    "    params = ParameterVector(param_prefix, length=num_qubits // 2 * 3)\n",
    "    for source, sink in zip(sources, sinks):\n",
    "        qc = qc.compose(pool_circuit(params[param_index : (param_index + 3)]), [source, sink])\n",
    "        qc.barrier()\n",
    "        param_index += 3\n",
    "\n",
    "    qc_inst = qc.to_instruction()\n",
    "\n",
    "    qc = QuantumCircuit(num_qubits)\n",
    "    qc.append(qc_inst, range(num_qubits))\n",
    "    return qc\n",
    "\n",
    "# sources = [0, 1] # qubits from which information will be 'transferred'\n",
    "# sinks = [2, 3] #qubits to which transferred information will be encoded\n",
    "# circuit = pool_layer(sources, sinks, \"θ\")\n",
    "# circuit.decompose().draw(\"mpl\")"
   ]
  },
  {
   "cell_type": "code",
   "execution_count": null,
   "metadata": {},
   "outputs": [],
   "source": []
  },
  {
   "cell_type": "code",
   "execution_count": null,
   "metadata": {},
   "outputs": [],
   "source": []
  },
  {
   "cell_type": "code",
   "execution_count": null,
   "metadata": {},
   "outputs": [],
   "source": []
  },
  {
   "cell_type": "code",
   "execution_count": null,
   "metadata": {},
   "outputs": [],
   "source": []
  }
 ],
 "metadata": {
  "kernelspec": {
   "display_name": "qc",
   "language": "python",
   "name": "python3"
  },
  "language_info": {
   "codemirror_mode": {
    "name": "ipython",
    "version": 3
   },
   "file_extension": ".py",
   "mimetype": "text/x-python",
   "name": "python",
   "nbconvert_exporter": "python",
   "pygments_lexer": "ipython3",
   "version": "3.10.13"
  }
 },
 "nbformat": 4,
 "nbformat_minor": 2
}
