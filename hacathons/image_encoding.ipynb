{
 "cells": [
  {
   "cell_type": "markdown",
   "metadata": {},
   "source": [
    "# RESOURCES\n",
    "1. https://arxiv.org/pdf/2203.01831.pdf\n",
    "2. https://arxiv.org/pdf/1801.01465.pdf\n",
    "\n",
    "3. https://www.columbia.edu/~ask2262/CourseProjects/Kudinoor_n-QubitQuantumTeleportationProtocol.pdf"
   ]
  },
  {
   "cell_type": "code",
   "execution_count": 2,
   "metadata": {},
   "outputs": [],
   "source": [
    "import qiskit\n",
    "from qiskit import quantum_info\n",
    "#from qiskit.execute_function import execute\n",
    "from qiskit_aer import AerSimulator\n",
    "import numpy as np\n",
    "import pickle\n",
    "import json\n",
    "import os\n",
    "from collections import Counter\n",
    "from sklearn.metrics import mean_squared_error\n",
    "from typing import Dict, List\n",
    "import matplotlib.pyplot as plt\n",
    "from qiskit import QuantumCircuit\n",
    "from PIL import Image\n",
    "from sklearn.model_selection import train_test_split\n",
    "from qiskit.circuit.library import ZFeatureMap\n",
    "from qiskit.circuit import ParameterVector\n",
    "from qiskit.quantum_info import SparsePauliOp\n",
    "from qiskit_machine_learning.neural_networks import EstimatorQNN\n",
    "from qiskit_machine_learning.algorithms.classifiers import NeuralNetworkClassifier\n",
    "from qiskit_algorithms.optimizers import COBYLA\n",
    "from PIL import Image\n",
    "import matplotlib.pyplot as plt\n",
    "import sys\n",
    "from qiskit.visualization import plot_histogram, plot_distribution\n",
    "\n",
    "\n",
    "\n",
    "\n",
    "import matplotlib.image as img\n",
    "# from qiskit import *\n",
    "# from qiskit import IBMQ\n",
    "# from qiskit.compiler import transpile, assemble\n",
    "# from qiskit.tools.jupyter import *\n",
    "# from qiskit.visualization import *"
   ]
  },
  {
   "cell_type": "code",
   "execution_count": 3,
   "metadata": {},
   "outputs": [],
   "source": [
    "def classical_encode(image, M=349, N=351):\n",
    "  \"\"\"\n",
    "  image:ndarray -> array of rgb data of shape (3, w, h)\n",
    "  M:int -> first modular base\n",
    "  N:int -> second modular base\n",
    "\n",
    "  returns:\n",
    "  modular_image:ndarray -> array of modular encoded rgb image of shape (w,h)\n",
    "  \"\"\"\n",
    "  image_dim = len(image.shape)\n",
    "  if image_dim == 3:\n",
    "    r,g,b = image[:,:,0], image[:,:,1], image[:,:,2]\n",
    "  elif image_dim == 1:\n",
    "    r,g,b = image[0], image[1], image[2]\n",
    "    \n",
    "  modular_image = (r*M*N)+(g*N)+b\n",
    "  print(\"Shape of classical modular encoded image is\", modular_image.shape)\n",
    "  print(f\"There are a total of{np.where(image==0)}\")\n",
    "  return modular_image\n",
    "\n",
    "def classical_decode(modular_image, M=349, N=351):\n",
    "  \"\"\"\n",
    "  modular_image:ndarray -> array of modular encoded rgb image \n",
    "  M:int -> first modular base\n",
    "  N:int -> second modular base\n",
    "\n",
    "  returns:\n",
    "  reconstructed_image:ndarray -> reconstructed rgb image from modular_image \n",
    "  \"\"\"\n",
    "  b=modular_image%N\n",
    "  g=(modular_image//N)%M\n",
    "  r=(modular_image//(M*N))%M\n",
    "  print(np.where(r==0))\n",
    "  print(np.where(g==0))\n",
    "  print(np.where(b==0))\n",
    "  reconstructed_image = np.stack((r,g,b),axis=0)\n",
    "  reconstructed_image = np.transpose(reconstructed_image, (1, 2, 0))\n",
    "  return reconstructed_image\n",
    "\n",
    "def get_qubits(image_width, image_height):\n",
    "    num_qubits = np.log2(image_width * image_height)\n",
    "    if num_qubits%1 == 0:\n",
    "      return int(num_qubits)\n",
    "    else:\n",
    "      num_qubits = np.ceil(np.log2(image_width * image_height))\n",
    "      return int(num_qubits)\n",
    "\n",
    "def amplitude_encode(img_data, num_qubits):\n",
    "    # Calculate the RMS value\n",
    "    total_states = 2**num_qubits\n",
    "    img_w, img_h = img_data.shape[0], img_data.shape[1]\n",
    "    #print('--------',img_data.shape[0])\n",
    "    pixel_num = img_w*img_h\n",
    "    img_max = np.max(img_data)\n",
    "    norm_img = img_data/img_max\n",
    "    norm_sq = norm_img**2\n",
    "    norm_sq_sum = np.sum(np.sum(norm_sq, axis=1))\n",
    "    norm_sq_sum_root = np.sqrt(norm_sq_sum)\n",
    "    temp = norm_img/norm_sq_sum_root\n",
    "    amplitude_encoded_image = temp.reshape(pixel_num, 1)\n",
    "    print(\"Sum of pixel values to initialse qubits to sum to:\", np.sum(temp**2))\n",
    "\n",
    "    states_pixel_difference = total_states-pixel_num\n",
    "    if states_pixel_difference != 0:\n",
    "      zeros_to_append = np.zeros((states_pixel_difference,1))\n",
    "      amplitude_encoded_image = np.vstack((amplitude_encoded_image, zeros_to_append))\n",
    "    print(\"Shape of amplitude encoded image=\", amplitude_encoded_image.shape)\n",
    "    print(\"Total number of basis state=\", total_states)\n",
    "    print(\"Number of zeros to append=\", states_pixel_difference)\n",
    "    return amplitude_encoded_image.reshape(int(total_states)),norm_sq_sum_root, pixel_num, img_max"
   ]
  },
  {
   "cell_type": "code",
   "execution_count": 4,
   "metadata": {},
   "outputs": [
    {
     "name": "stdout",
     "output_type": "stream",
     "text": [
      "True\n"
     ]
    }
   ],
   "source": [
    "print(0==0.0)"
   ]
  },
  {
   "cell_type": "code",
   "execution_count": 28,
   "metadata": {},
   "outputs": [
    {
     "name": "stdout",
     "output_type": "stream",
     "text": [
      "Shape of origianl image: (4, 4, 3)\n",
      "Shape of classical modular encoded image is (4, 4)\n",
      "There are a total of(array([], dtype=int64), array([], dtype=int64), array([], dtype=int64))\n",
      "Number of qubits to initialise is:4\n",
      "Sum of pixel values to initialse qubits to sum to: 1.0000000000000002\n",
      "Shape of amplitude encoded image= (16, 1)\n",
      "Total number of basis state= 16\n",
      "Number of zeros to append= 0\n"
     ]
    },
    {
     "data": {
      "image/png": "[encoded data removed]",
      "text/plain": [
       "<Figure size 640x480 with 1 Axes>"
      ]
     },
     "metadata": {},
     "output_type": "display_data"
    }
   ],
   "source": [
    "image = np.array([[0, 0, 0, 0, 0, 0, 0, 0],\n",
    "                  [0, 1, 1, 1, 1, 1, 0, 0],\n",
    "                  [0, 1, 1, 1, 1, 1, 1, 0],\n",
    "                  [0, 1, 1, 1, 1, 1, 1, 0],\n",
    "                  [0, 1, 1, 0, 1, 1, 1, 0],\n",
    "                  [0, 0, 0, 1, 1, 1, 1, 0],\n",
    "                  [0, 0, 0, 1, 1, 1, 1, 0],\n",
    "                  [0, 0, 0, 0, 0, 0, 0, 1]])\n",
    "from PIL import Image\n",
    "#Open the image\n",
    "image_width = 4\n",
    "image_height = 4\n",
    "M=300\n",
    "N=300\n",
    "image_path = '/workspaces/QC/murat.jpeg'\n",
    "\n",
    "image = Image.open(image_path)\n",
    "image = image.resize((image_width, image_height))\n",
    "image = np.array(image)\n",
    "\n",
    "image = np.random.randint(1, 255, size=3*image_width*image_height).reshape(image_width, image_height,3)\n",
    "#image = np.array((3,2,2,3,3,2,2,3)).reshape(2,4)\n",
    "#image = np.array((1,1,1,1)).reshape(2,2)\n",
    "#image = np.array((3,2,2,3)).reshape(2,2)\n",
    "# image = np.array((1,2,3,4)).reshape(2,2)\n",
    "#image = np.array((4,1,1,1,1,1,1,4)).reshape(2,4)\n",
    "#image = np.array((1,2,3,4,1,2,3,4)).reshape(2,4)\n",
    "\n",
    "#image = image/np.max(image)\n",
    "#print(image)\n",
    "print(\"Shape of origianl image:\", image.shape)\n",
    "plt.imshow(image)\n",
    "modular_image = classical_encode(image, M=M, N=N)\n",
    "modular_image = np.round(modular_image)\n",
    "modular_image = modular_image.astype(int)\n",
    "\n",
    "num_qubits = get_qubits(image_width=image_width, image_height=image_height)\n",
    "print(f\"Number of qubits to initialise is:{num_qubits}\")\n",
    "amplitude_encoded, rms, pixel_num, img_max = amplitude_encode(modular_image, num_qubits=num_qubits)"
   ]
  },
  {
   "cell_type": "code",
   "execution_count": 52,
   "metadata": {},
   "outputs": [
    {
     "data": {
      "image/png": "[encoded data removed]",
      "text/plain": [
       "<Figure size 2503.44x1120.39 with 1 Axes>"
      ]
     },
     "execution_count": 52,
     "metadata": {},
     "output_type": "execute_result"
    }
   ],
   "source": [
    "num_channel_state_qubits = 8\n",
    "qc= QuantumCircuit(num_qubits+num_channel_state_qubits)\n",
    "qc.initialize(amplitude_encoded, range(0, num_qubits))\n",
    "qc.h([num_qubits, num_qubits+2, num_qubits+4, num_qubits+6])\n",
    "qc.cx(num_qubits,num_qubits+1)\n",
    "qc.cx(num_qubits+2,num_qubits+3)\n",
    "qc.cx(num_qubits+4,num_qubits+5)\n",
    "qc.cx(num_qubits+6,num_qubits+7)\n",
    "qc.swap(num_qubits, num_channel_state_qubits+num_qubits-1)\n",
    "qc.swap(num_qubits+1, num_qubits+3)\n",
    "qc.swap(num_qubits+4, num_qubits+6)\n",
    "qc.swap(num_qubits+2, num_qubits+5)\n",
    "qc.measure_all()\n",
    "qc.draw('mpl', fold=1000)\n",
    "# result = AerSimulator(enable_truncation=False,shots=10000000).run(qc).result()\n",
    "# statistics = result.get_counts(qc)\n",
    "# display(plot_histogram(statistics))\n",
    "# sorted_statistics = dict(sorted(statistics.items(), key=lambda x: x[0]))\n",
    "# print(sorted_statistics)"
   ]
  },
  {
   "cell_type": "code",
   "execution_count": 30,
   "metadata": {},
   "outputs": [
    {
     "data": {
      "text/plain": [
       "array([0.05602211, 0.39588765, 0.15682423, 0.47935607, 0.21636483,\n",
       "       0.34101803, 0.13030142, 0.29055144, 0.31592348, 0.04604613,\n",
       "       0.03646507, 0.3177358 , 0.02883831, 0.01636177, 0.27612427,\n",
       "       0.19923651])"
      ]
     },
     "execution_count": 30,
     "metadata": {},
     "output_type": "execute_result"
    }
   ],
   "source": [
    "amplitude_encoded"
   ]
  },
  {
   "cell_type": "code",
   "execution_count": 9,
   "metadata": {},
   "outputs": [
    {
     "data": {
      "text/plain": [
       "8"
      ]
     },
     "execution_count": 9,
     "metadata": {},
     "output_type": "execute_result"
    }
   ],
   "source": [
    "basis_states = sorted(list(dict(statistics).keys()))\n",
    "sorted_statistics = dict(sorted(statistics.items(), key=lambda x: x[0]))\n",
    "len(sorted_statistics)"
   ]
  },
  {
   "cell_type": "code",
   "execution_count": 10,
   "metadata": {},
   "outputs": [],
   "source": [
    "amplitudes = np.array(list(dict(sorted_statistics).values()))\n",
    "probabilities = amplitudes/np.sum(amplitudes)\n",
    "decoded_result = np.sqrt(probabilities)\n",
    "decoded_result = decoded_result*(rms)*img_max\n",
    "decoded_result = decoded_result.reshape(modular_image.shape)\n",
    "#print(decoded_img)\n",
    "decoded_result = np.round(decoded_result)\n",
    "decoded_result = decoded_result.astype(int)\n",
    "# print(decoded_result/max(decoded_result))\n",
    "# print(image)"
   ]
  },
  {
   "cell_type": "code",
   "execution_count": 15,
   "metadata": {},
   "outputs": [
    {
     "name": "stderr",
     "output_type": "stream",
     "text": [
      "Clipping input data to the valid range for imshow with RGB data ([0..1] for floats or [0..255] for integers).\n"
     ]
    },
    {
     "name": "stdout",
     "output_type": "stream",
     "text": [
      "(array([], dtype=int64), array([], dtype=int64))\n",
      "(array([], dtype=int64), array([], dtype=int64))\n",
      "(array([], dtype=int64), array([], dtype=int64))\n"
     ]
    },
    {
     "data": {
      "image/png": "[encoded data removed]",
      "text/plain": [
       "<Figure size 640x480 with 4 Axes>"
      ]
     },
     "metadata": {},
     "output_type": "display_data"
    }
   ],
   "source": [
    "reconstructed_image = classical_decode(decoded_result, M=M, N=N)\n",
    "#reconstructed_image\n",
    "\n",
    "fig, axs = plt.subplots(1, 4)\n",
    "axs[0].imshow(image)\n",
    "axs[0].axis('off')\n",
    "axs[1].imshow(modular_image/np.max(image))\n",
    "axs[1].axis('off')\n",
    "axs[2].imshow(decoded_result/np.max(decoded_result))\n",
    "axs[2].axis('off')\n",
    "axs[3].imshow(reconstructed_image)\n",
    "axs[3].axis('off')\n",
    "plt.subplots_adjust(wspace=0.2)\n",
    "plt.show()"
   ]
  },
  {
   "cell_type": "code",
   "execution_count": 13,
   "metadata": {},
   "outputs": [
    {
     "name": "stdout",
     "output_type": "stream",
     "text": [
      "14610184\n",
      "14611522\n"
     ]
    }
   ],
   "source": [
    "print(modular_image[0][0])\n",
    "print(decoded_result[0][0])"
   ]
  },
  {
   "cell_type": "code",
   "execution_count": 13,
   "metadata": {},
   "outputs": [
    {
     "name": "stdout",
     "output_type": "stream",
     "text": [
      "[220 179  52]\n",
      "[[220  52  31]\n",
      " [191  39  98]\n",
      " [207 103  76]\n",
      " [110 289  67]]\n"
     ]
    }
   ],
   "source": [
    "tt = image[0,0,:]\n",
    "ttt = reconstructed_image[0]\n",
    "print(tt)\n",
    "print(ttt)\n",
    "\n"
   ]
  },
  {
   "cell_type": "code",
   "execution_count": 160,
   "metadata": {},
   "outputs": [
    {
     "name": "stdout",
     "output_type": "stream",
     "text": [
      "Shape of classical modular encoded image is (1, 1)\n",
      "There are a total of(array([], dtype=int64), array([], dtype=int64), array([], dtype=int64))\n",
      "(array([], dtype=int64), array([], dtype=int64))\n",
      "(array([], dtype=int64), array([], dtype=int64))\n",
      "(array([], dtype=int64), array([], dtype=int64))\n",
      "---------- [[12851724]] [[[142 239  24]]]\n",
      "(1, 1)\n"
     ]
    }
   ],
   "source": [
    "M_test =  M\n",
    "N_test = N\n",
    "image_width = 1\n",
    "image_height = 1\n",
    "\n",
    "#image = np.random.randint(1, 255, size=3*image_width*image_height).reshape(image_width, image_height,3)\n",
    "image_test = image[0,0,:].reshape(1,1,3)\n",
    "modular_test = classical_encode(image_test, M=M_test, N=N_test)\n",
    "decoded_test = classical_decode(modular_test, M=M_test, N=N_test)\n",
    "\n",
    "orig = modular_test\n",
    "dec = decoded_test\n",
    "\n",
    "b= orig%N\n",
    "g=(orig//N)%M\n",
    "r=(orig//(M*N))%M\n",
    "r_image = np.stack((r,g,b),axis=0)\n",
    "r_image = np.transpose(r_image, (1, 2, 0))\n",
    "\n",
    "print(\"----------\", orig, dec)\n",
    "print(orig.shape)\n",
    "\n",
    "\n",
    "\n",
    "\n",
    "# print(modular_test.shape)\n",
    "# print(decoded_test.shape)\n"
   ]
  },
  {
   "cell_type": "code",
   "execution_count": 8,
   "metadata": {},
   "outputs": [
    {
     "name": "stdout",
     "output_type": "stream",
     "text": [
      "142 142 0\n",
      "239 239 0\n",
      "24 24 0\n"
     ]
    }
   ],
   "source": [
    "#y = 12833557\n",
    "x = 12851724\n",
    "y = x\n",
    "diff = x-y\n",
    "\n",
    "b= x%N\n",
    "g=(x//N)%M\n",
    "r=(x//(M*N))%M\n",
    "\n",
    "b1= y%N\n",
    "g1=(y//N)%M\n",
    "r1=(y//(M*N))%M\n",
    "\n",
    "b2= diff%N\n",
    "g2=(diff//N)%M\n",
    "r2=(diff//(M*N))%M\n",
    "\n",
    "print(r, r1, r2)\n",
    "print(g, g1, g2)\n",
    "print(b, b1, b2)"
   ]
  },
  {
   "cell_type": "code",
   "execution_count": 15,
   "metadata": {},
   "outputs": [
    {
     "name": "stdout",
     "output_type": "stream",
     "text": [
      "142 142 0\n",
      "239 238 0\n",
      "24 299 25\n"
     ]
    }
   ],
   "source": [
    "#y = 12833557\n",
    "x = 12851724\n",
    "y = x-25\n",
    "diff = x-y\n",
    "\n",
    "b= x%N\n",
    "g=(x//N)%M\n",
    "r=(x//(M*N))%M\n",
    "\n",
    "b1= y%N\n",
    "g1=(y//N)%M\n",
    "r1=(y//(M*N))%M\n",
    "\n",
    "b2= diff%N\n",
    "g2=(diff//N)%M\n",
    "r2=(diff//(M*N))%M\n",
    "\n",
    "print(r, r1, r2)\n",
    "print(g, g1, g2)\n",
    "print(b, b1, b2)"
   ]
  },
  {
   "cell_type": "code",
   "execution_count": 11,
   "metadata": {},
   "outputs": [
    {
     "name": "stdout",
     "output_type": "stream",
     "text": [
      "(3, 2, 1)\n",
      "[[[1 2 3]]\n",
      "\n",
      " [[1 2 3]]]\n",
      "(2, 1, 3)\n",
      "(2, 1)\n"
     ]
    }
   ],
   "source": [
    "a = np.array([1,1]).reshape(2,1)\n",
    "b = np.array([2,2]).reshape(2,1)\n",
    "c = np.array([3,3]).reshape(2,1)\n",
    "d = np.stack((a,b,c),axis=0)\n",
    "print(d.shape)\n",
    "d = np.transpose(d, (1, 2, 0))\n",
    "print(d)\n",
    "print(d.shape)\n",
    "print(d[:,:,2].shape)\n"
   ]
  },
  {
   "cell_type": "code",
   "execution_count": null,
   "metadata": {},
   "outputs": [],
   "source": [
    "print(image)\n",
    "print(decoded_result)\n",
    "fig, axs = plt.subplots(1, 2)\n",
    "axs[0].imshow(image)\n",
    "axs[0].axis('off')\n",
    "axs[1].imshow(decoded_result)\n",
    "axs[1].axis('off')\n",
    "plt.show()"
   ]
  },
  {
   "cell_type": "code",
   "execution_count": null,
   "metadata": {},
   "outputs": [],
   "source": [
    "from itertools import product\n",
    "\n",
    "# Generate all combinations of arranging 0s and 1s in groups of 5\n",
    "combinations = list(product([0, 1], repeat=5))\n",
    "\n",
    "# Print the combinations\n",
    "for combination in combinations:\n",
    "    print(combination)"
   ]
  },
  {
   "cell_type": "code",
   "execution_count": null,
   "metadata": {},
   "outputs": [],
   "source": [
    "three_ghz = QuantumCircuit(3)\n",
    "three_ghz.h(0)\n",
    "three_ghz.cx(0,1)\n",
    "three_ghz.cx(0,2) #alternativelya, you can use a cnot/cx gate here with qubit 1 (control) and qubit 2 (target)\n",
    "depth = three_ghz.depth()\n",
    "sv = Statevector.from_instruction(three_ghz).probabilities_dict(decimals=1)\n",
    "print('Depth: ', depth)\n",
    "print('Probabilities dict from statevector: ', sv)\n",
    "three_ghz.draw('mpl')"
   ]
  },
  {
   "cell_type": "code",
   "execution_count": null,
   "metadata": {},
   "outputs": [],
   "source": [
    "# Initialize some global variable for number of qubits\n",
    "data_qb = 6\n",
    "anc_qb = 1\n",
    "total_qb = data_qb + anc_qb\n",
    "\n",
    "# Initialize the amplitude permutation unitary\n",
    "D2n_1 = np.roll(np.identity(2**total_qb), 1, axis=1)\n",
    "\n",
    "# def understand_np_dot_roll():\n",
    "#     arr = np.random.randint(1, 9, 16).reshape(4,4) * np.identity(4)\n",
    "#     print(\"Random matrix generated\\n\", arr)\n",
    "#     print(\"Shifting image by 1 in axis=1(x-axis)\\n\", np.roll(arr, 1, axis=1))\n",
    "#     print(\"Shifting image by 1 in axis=1(x-axis) and by 1 in axis=0(y-axis) \\n\", np.roll(arr, (1,1), axis=(0,1)))\n",
    "# understand_np_dot_roll()"
   ]
  },
  {
   "cell_type": "code",
   "execution_count": null,
   "metadata": {},
   "outputs": [],
   "source": [
    "#submission to part 1, you should make this into a .py file\n",
    "n=len(images)\n",
    "mse=0\n",
    "gatecount=0\n",
    "num_qubits = 8\n",
    "\n",
    "\n",
    "def plot_image(img, title='Reconstructed image'):\n",
    "    plt.title(title)\n",
    "    plt.xticks(range(img.shape[0]))\n",
    "    plt.yticks(range(img.shape[1]))\n",
    "    plt.imshow(img, extent=[0, img.shape[0], img.shape[1], 0], cmap='viridis')\n",
    "    plt.show()\n",
    "    \n",
    "def encode(image):\n",
    "    image_norm_h, rms, pixel_num = amplitude_encode(image)\n",
    "    num_qubits = int(np.log2(pixel_num))\n",
    "    print(f\"{num_qubits} initialised for this image\")\n",
    "    qc_h = QuantumCircuit(num_qubits)\n",
    "    qc_h.initialize(image_norm_h, range(0, num_qubits))\n",
    "    return qc_h, rms, num_qubits\n",
    "\n",
    "def simulate(circuit, show_histogram=True):\n",
    "    backend = Aer.get_backend('statevector_simulator')\n",
    "    job = execute(circuit, backend)\n",
    "    result = job.result()\n",
    "    statevector = result.get_statevector()\n",
    "    probabilities = np.array(np.abs(statevector)**2)\n",
    "    if show_histogram:\n",
    "        plt.bar(range((2**circuit.num_qubits)), probabilities)\n",
    "        plt.xlabel('Basis State')\n",
    "        plt.ylabel('Probability')\n",
    "        plt.show()\n",
    "    return probabilities\n",
    "\n",
    "def decode(probabilities, rms):\n",
    "    prob_sqrt = np.sqrt(probabilities)\n",
    "    reconstructed_image = prob_sqrt * rms\n",
    "    dim = int(np.sqrt(len(reconstructed_image)))\n",
    "    return reconstructed_image.reshape(dim, dim)\n",
    "\n",
    "def run_part1(image):\n",
    "    #encode image into a circuit\n",
    "    circuit, rms, num_qubits = encode(image)\n",
    "\n",
    "    #simulate circuit\n",
    "    histogram=simulate(circuit, show_histogram=False)\n",
    "\n",
    "    #reconstruct the image\n",
    "    image_re=decode(histogram, rms)\n",
    "\n",
    "    return circuit,image_re, num_qubits \n",
    "\n",
    "def resize_iamges(dataset, resized_dimention=16):\n",
    "    temp_dataset = np.empty((dataset.shape[0], resized_dimention, resized_dimention))\n",
    "    for index,img in dataset:\n",
    "        img = Image.fromarray(img)\n",
    "        img = np.array(img.resize((resized_dimention, resized_dimention)))\n",
    "        temp_dataset[index] = img\n",
    "    return temp_dataset\n",
    "\n",
    "\n",
    "\n",
    "\n",
    "qubits_list = list(range(num_qubits))\n",
    "feature_map = ZFeatureMap(num_qubits)  # initialise feature map to capture total pixels\n",
    "\n",
    "ansatz = QuantumCircuit(8, name=\"Ansatz\")\n",
    "\n",
    "# First Convolutional Layer\n",
    "ansatz.compose(conv_layer(8, \"с1\"), qubits=list(range(8)), inplace=True)\n",
    "# First Pooling Layer\n",
    "ansatz.compose(pool_layer([0, 1, 2, 3], [4, 5, 6, 7], \"p1\"), list(range(8)), inplace=True)\n",
    "\n",
    "# Second Convolutional Layer\n",
    "ansatz.compose(conv_layer(4, \"c2\"), list(range(4, 8)), inplace=True)\n",
    "# Second Pooling Layer\n",
    "ansatz.compose(pool_layer([0, 1], [2, 3], \"p2\"), list(range(4, 8)), inplace=True)\n",
    "\n",
    "# Third Convolutional Layer\n",
    "ansatz.compose(conv_layer(2, \"c3\"), list(range(6, 8)), inplace=True)\n",
    "# Third Pooling Layer\n",
    "ansatz.compose(pool_layer([0], [1], \"p3\"), list(range(6, 8)), inplace=True)\n",
    "   \n",
    "\n",
    "#print(ansatz.parameters)\n",
    "circuit.compose(feature_map, range(8), inplace=True)\n",
    "#circuit.append(feature_map, range(num_qubits))\n",
    "circuit.compose(ansatz, range(8), inplace=True)\n",
    "#circuit.append(ansatz, range(num_qubits))\n",
    "\n",
    "#circuit.decompose().draw(\"mpl\", fold=-1)\n",
    "\n",
    "# circuit2, test_image2 = run_part1(img.T)\n",
    "#plot_image(test_image)"
   ]
  },
  {
   "cell_type": "code",
   "execution_count": null,
   "metadata": {},
   "outputs": [],
   "source": [
    "observable = SparsePauliOp.from_list([(\"Z\" + \"I\" * 7, 1)])\n",
    "\n",
    "# we decompose the circuit for the QNN to avoid additional data copying\n",
    "qnn = EstimatorQNN(\n",
    "    circuit=circuit.decompose(),\n",
    "    observables=observable,\n",
    "    input_params=feature_map.parameters,\n",
    "    weight_params=ansatz.parameters,\n",
    ")"
   ]
  },
  {
   "cell_type": "code",
   "execution_count": null,
   "metadata": {},
   "outputs": [],
   "source": [
    "x = np.asarray(train_images)\n",
    "y = np.asarray(train_labels)\n",
    "objective_func_vals = []\n",
    "\n",
    "def callback_graph(weights, obj_func_eval):\n",
    "    clear_output(wait=True)\n",
    "    objective_func_vals.append(obj_func_eval)\n",
    "    plt.title(\"Objective function value against iteration\")\n",
    "    plt.xlabel(\"Iteration\")\n",
    "    plt.ylabel(\"Objective function value\")\n",
    "    plt.plot(range(len(objective_func_vals)), objective_func_vals)\n",
    "    plt.show()\n",
    "\n",
    "classifier = NeuralNetworkClassifier(\n",
    "    qnn,\n",
    "    optimizer=COBYLA(maxiter=10),  # Set max iterations here\n",
    "    callback=callback_graph\n",
    ")"
   ]
  },
  {
   "cell_type": "code",
   "execution_count": null,
   "metadata": {},
   "outputs": [],
   "source": [
    "train_images = resize_images(train_images, resized_dimention=16)\n",
    "test_images = resize_images(test_images, resized_dimention=16)\n",
    "\n",
    "classifier.fit(train_images, train_labels)\n",
    "\n",
    "plt.rcParams[\"figure.figsize\"] = (12, 6)\n",
    "# score classifier\n",
    "print(f\"Accuracy from the train data : {np.round(100 * classifier.score(x, y), 2)}%\")"
   ]
  },
  {
   "cell_type": "code",
   "execution_count": null,
   "metadata": {},
   "outputs": [],
   "source": [
    "#how we grade your submission\n",
    "\n",
    "n=len(images)\n",
    "mse=0\n",
    "gatecount=0\n",
    "\n",
    "for data in images:\n",
    "    #encode image into circuit\n",
    "    circuit,image_re=run_part1(data['image'])\n",
    "    \n",
    "    #count the number of 2qubit gates used\n",
    "    gatecount+=count_gates(circuit)[2]\n",
    "    \n",
    "    #calculate mse\n",
    "    mse+=image_mse(data['image'],image_re)\n",
    "    \n",
    "#fidelity of reconstruction\n",
    "f=1-mse/n\n",
    "gatecount=gatecount/n\n",
    "\n",
    "#score for part1 \n",
    "print(f*(0.999**gatecount))"
   ]
  },
  {
   "cell_type": "code",
   "execution_count": null,
   "metadata": {},
   "outputs": [],
   "source": [
    "def conv_circuit(params):\n",
    "    \"\"\"\n",
    "    params is a parameter vector\n",
    "    \"\"\"\n",
    "    target = QuantumCircuit(2)\n",
    "    target.rz(-np.pi / 2, 1)\n",
    "    target.cx(1, 0)\n",
    "    target.rz(params[0], 0)\n",
    "    target.ry(params[1], 1)\n",
    "    target.cx(0, 1)\n",
    "    target.ry(params[2], 1)\n",
    "    target.cx(1, 0)\n",
    "    target.rz(np.pi / 2, 0)\n",
    "    return target\n",
    "\n",
    "# # Let's draw this circuit and see what it looks like\n",
    "# params = ParameterVector(\"θ\", length=3)\n",
    "# circuit = conv_circuit(params)\n",
    "# circuit.draw(\"mpl\")\n",
    "\n",
    "def conv_layer(num_qubits, param_prefix):\n",
    "    qc = QuantumCircuit(num_qubits, name=\"Convolutional Layer\")\n",
    "    qubits = list(range(num_qubits))\n",
    "    param_index = 0\n",
    "    params = ParameterVector(param_prefix, length=num_qubits * 3)\n",
    "    for q1, q2 in zip(qubits[0::2], qubits[1::2]):\n",
    "        qc = qc.compose(conv_circuit(params[param_index : (param_index + 3)]), [q1, q2])\n",
    "        qc.barrier()\n",
    "        param_index += 3\n",
    "        #print('qi',q1,'q2',q2)\n",
    "    for q1, q2 in zip(qubits[1::2], qubits[2::2] + [0]):\n",
    "        qc = qc.compose(conv_circuit(params[param_index : (param_index + 3)]), [q1, q2])\n",
    "        qc.barrier()\n",
    "        param_index += 3\n",
    "\n",
    "    qc_inst = qc.to_instruction()\n",
    "\n",
    "    qc = QuantumCircuit(num_qubits)\n",
    "    qc.append(qc_inst, qubits)\n",
    "    return qc\n",
    "\n",
    "# circuit = conv_layer(4, \"θ\")\n",
    "# circuit.decompose().draw(\"mpl\", fold=100)\n",
    "\n",
    "\n",
    "def pool_circuit(params):\n",
    "    target = QuantumCircuit(2)\n",
    "    target.rz(-np.pi / 2, 1)\n",
    "    target.cx(1, 0)\n",
    "    target.rz(params[0], 0)\n",
    "    target.ry(params[1], 1)\n",
    "    target.cx(0, 1)\n",
    "    target.ry(params[2], 1)\n",
    "\n",
    "    return target\n",
    "\n",
    "# params = ParameterVector(\"θ\", length=3)\n",
    "# circuit = pool_circuit(params)\n",
    "# circuit.draw(\"mpl\")\n",
    "\n",
    "\n",
    "def pool_layer(sources, sinks, param_prefix):\n",
    "    num_qubits = len(sources) + len(sinks)\n",
    "    qc = QuantumCircuit(num_qubits, name=\"Pooling Layer\")\n",
    "    param_index = 0\n",
    "    params = ParameterVector(param_prefix, length=num_qubits // 2 * 3)\n",
    "    for source, sink in zip(sources, sinks):\n",
    "        qc = qc.compose(pool_circuit(params[param_index : (param_index + 3)]), [source, sink])\n",
    "        qc.barrier()\n",
    "        param_index += 3\n",
    "\n",
    "    qc_inst = qc.to_instruction()\n",
    "\n",
    "    qc = QuantumCircuit(num_qubits)\n",
    "    qc.append(qc_inst, range(num_qubits))\n",
    "    return qc\n",
    "\n",
    "# sources = [0, 1] # qubits from which information will be 'transferred'\n",
    "# sinks = [2, 3] #qubits to which transferred information will be encoded\n",
    "# circuit = pool_layer(sources, sinks, \"θ\")\n",
    "# circuit.decompose().draw(\"mpl\")"
   ]
  },
  {
   "cell_type": "code",
   "execution_count": null,
   "metadata": {},
   "outputs": [],
   "source": []
  },
  {
   "cell_type": "code",
   "execution_count": null,
   "metadata": {},
   "outputs": [],
   "source": []
  },
  {
   "cell_type": "code",
   "execution_count": null,
   "metadata": {},
   "outputs": [],
   "source": []
  },
  {
   "cell_type": "code",
   "execution_count": null,
   "metadata": {},
   "outputs": [],
   "source": []
  }
 ],
 "metadata": {
  "kernelspec": {
   "display_name": "qc",
   "language": "python",
   "name": "python3"
  },
  "language_info": {
   "codemirror_mode": {
    "name": "ipython",
    "version": 3
   },
   "file_extension": ".py",
   "mimetype": "text/x-python",
   "name": "python",
   "nbconvert_exporter": "python",
   "pygments_lexer": "ipython3",
   "version": "3.10.13"
  }
 },
 "nbformat": 4,
 "nbformat_minor": 2
}
