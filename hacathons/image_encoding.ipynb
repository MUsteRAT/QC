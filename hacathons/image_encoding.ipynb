{
 "cells": [
  {
   "cell_type": "markdown",
   "metadata": {},
   "source": [
    "# RESOURCES\n",
    "1. https://arxiv.org/pdf/2203.01831.pdf\n",
    "2. https://arxiv.org/pdf/1801.01465.pdf\n",
    "\n",
    "3. https://www.columbia.edu/~ask2262/CourseProjects/Kudinoor_n-QubitQuantumTeleportationProtocol.pdf"
   ]
  },
  {
   "cell_type": "code",
   "execution_count": 1,
   "metadata": {},
   "outputs": [],
   "source": [
    "#import qiskit\n",
    "#from qiskit import quantum_info\n",
    "#from qiskit.execute_function import execute\n",
    "from qiskit_aer import AerSimulator\n",
    "import numpy as np\n",
    "# import pickle\n",
    "# import json\n",
    "# import os\n",
    "# from collections import Counter\n",
    "# from sklearn.metrics import mean_squared_error\n",
    "# from typing import Dict, List\n",
    "import matplotlib.pyplot as plt\n",
    "from qiskit import QuantumCircuit\n",
    "# from PIL import Image\n",
    "# from sklearn.model_selection import train_test_split\n",
    "from qiskit.circuit.library import ZFeatureMap\n",
    "from qiskit.circuit import ParameterVector\n",
    "from qiskit.quantum_info import SparsePauliOp\n",
    "from qiskit_machine_learning.neural_networks import EstimatorQNN\n",
    "from qiskit_machine_learning.algorithms.classifiers import NeuralNetworkClassifier\n",
    "from qiskit_algorithms.optimizers import COBYLA\n",
    "#from PIL import Image\n",
    "import matplotlib.pyplot as plt\n",
    "# import sys\n",
    "from qiskit.visualization import plot_histogram, plot_distribution\n",
    "from qiskit import QuantumRegister, ClassicalRegister, QuantumCircuit ,transpile\n",
    "from qiskit_aer import Aer\n",
    "\n",
    "\n",
    "\n",
    "import matplotlib.image as img\n",
    "# from qiskit import *\n",
    "# from qiskit import IBMQ\n",
    "# from qiskit.compiler import transpile, assemble\n",
    "# from qiskit.tools.jupyter import *\n",
    "# from qiskit.visualization import *"
   ]
  },
  {
   "cell_type": "code",
   "execution_count": 17,
   "metadata": {},
   "outputs": [],
   "source": [
    "# with open(\"/workspaces/QC/ibm_token.txt\", 'r') as token:\n",
    "#     MY_IBM_QUANTUM_TOKEN = token.read()\n",
    "\n",
    "# from qiskit_ibm_runtime import QiskitRuntimeService\n",
    "\n",
    "# # Save an IBM Quantum account.\n",
    "# QiskitRuntimeService.save_account(channel=\"ibm_quantum\", token=MY_IBM_QUANTUM_TOKEN, overwrite=True)\n",
    "\n",
    "# from qiskit_ibm_runtime import QiskitRuntimeService\n",
    "# service = QiskitRuntimeService()"
   ]
  },
  {
   "cell_type": "code",
   "execution_count": 18,
   "metadata": {},
   "outputs": [],
   "source": [
    "def classical_encode(image, M=349, N=351):\n",
    "  \"\"\"\n",
    "  image:ndarray -> array of rgb data of shape (3, w, h)\n",
    "  M:int -> first modular base\n",
    "  N:int -> second modular base\n",
    "\n",
    "  returns:\n",
    "  modular_image:ndarray -> array of modular encoded rgb image of shape (w,h)\n",
    "  \"\"\"\n",
    "  image_dim = len(image.shape)\n",
    "  if image_dim == 3:\n",
    "    r,g,b = image[:,:,0], image[:,:,1], image[:,:,2]\n",
    "  elif image_dim == 1:\n",
    "    r,g,b = image[0], image[1], image[2]\n",
    "    \n",
    "  modular_image = (r*M*N)+(g*N)+b\n",
    "  print(\"Shape of classical modular encoded image is\", modular_image.shape)\n",
    "  print(f\"There are a total of{np.where(image==0)}\")\n",
    "  return modular_image\n",
    "\n",
    "def classical_decode(modular_image, M=349, N=351):\n",
    "  \"\"\"\n",
    "  modular_image:ndarray -> array of modular encoded rgb image \n",
    "  M:int -> first modular base\n",
    "  N:int -> second modular base\n",
    "\n",
    "  returns:\n",
    "  reconstructed_image:ndarray -> reconstructed rgb image from modular_image \n",
    "  \"\"\"\n",
    "  b=modular_image%N\n",
    "  g=(modular_image//N)%M\n",
    "  r=(modular_image//(M*N))%M\n",
    "  print(np.where(r==0))\n",
    "  print(np.where(g==0))\n",
    "  print(np.where(b==0))\n",
    "  reconstructed_image = np.stack((r,g,b),axis=0)\n",
    "  reconstructed_image = np.transpose(reconstructed_image, (1, 2, 0))\n",
    "  return reconstructed_image\n",
    "\n",
    "def get_qubits(image_width, image_height):\n",
    "    num_qubits = np.log2(image_width * image_height)\n",
    "    if num_qubits%1 == 0:\n",
    "      return int(num_qubits)\n",
    "    else:\n",
    "      num_qubits = np.ceil(np.log2(image_width * image_height))\n",
    "      return int(num_qubits)\n",
    "\n",
    "def amplitude_encode(img_data, num_qubits):\n",
    "    # Calculate the RMS value\n",
    "    total_states = 2**num_qubits\n",
    "    img_w, img_h = img_data.shape[0], img_data.shape[1]\n",
    "    #print('--------',img_data.shape[0])\n",
    "    pixel_num = img_w*img_h\n",
    "    img_max = np.max(img_data)\n",
    "    norm_img = img_data/img_max\n",
    "    norm_sq = norm_img**2\n",
    "    norm_sq_sum = np.sum(np.sum(norm_sq, axis=1))\n",
    "    norm_sq_sum_root = np.sqrt(norm_sq_sum)\n",
    "    temp = norm_img/norm_sq_sum_root\n",
    "    amplitude_encoded_image = temp.reshape(pixel_num, 1)\n",
    "    print(\"Sum of pixel values to initialse qubits to sum to:\", np.sum(temp**2))\n",
    "\n",
    "    states_pixel_difference = total_states-pixel_num\n",
    "    if states_pixel_difference != 0:\n",
    "      zeros_to_append = np.zeros((states_pixel_difference,1))\n",
    "      amplitude_encoded_image = np.vstack((amplitude_encoded_image, zeros_to_append))\n",
    "    print(\"Shape of amplitude encoded image=\", amplitude_encoded_image.shape)\n",
    "    print(\"Total number of basis state=\", total_states)\n",
    "    print(\"Number of zeros to append=\", states_pixel_difference)\n",
    "    return amplitude_encoded_image.reshape(int(total_states)),norm_sq_sum_root, pixel_num, img_max"
   ]
  },
  {
   "cell_type": "code",
   "execution_count": 50,
   "metadata": {},
   "outputs": [
    {
     "name": "stdout",
     "output_type": "stream",
     "text": [
      "Shape of origianl image: (3, 3, 3)\n",
      "Shape of classical modular encoded image is (3, 3)\n",
      "There are a total of(array([], dtype=int64), array([], dtype=int64), array([], dtype=int64))\n",
      "Number of qubits to initialise is:4\n",
      "Sum of pixel values to initialse qubits to sum to: 1.0\n",
      "Shape of amplitude encoded image= (16, 1)\n",
      "Total number of basis state= 16\n",
      "Number of zeros to append= 7\n"
     ]
    },
    {
     "data": {
      "image/png": "[encoded data removed]",
      "text/plain": [
       "<Figure size 640x480 with 1 Axes>"
      ]
     },
     "metadata": {},
     "output_type": "display_data"
    }
   ],
   "source": [
    "image = np.array([[0, 0, 0, 0, 0, 0, 0, 0],\n",
    "                  [0, 1, 1, 1, 1, 1, 0, 0],\n",
    "                  [0, 1, 1, 1, 1, 1, 1, 0],\n",
    "                  [0, 1, 1, 1, 1, 1, 1, 0],\n",
    "                  [0, 1, 1, 0, 1, 1, 1, 0],\n",
    "                  [0, 0, 0, 1, 1, 1, 1, 0],\n",
    "                  [0, 0, 0, 1, 1, 1, 1, 0],\n",
    "                  [0, 0, 0, 0, 0, 0, 0, 1]])\n",
    "from PIL import Image\n",
    "#Open the image\n",
    "image_width = 3\n",
    "image_height = 3\n",
    "M=300\n",
    "N=300\n",
    "image_path = '/workspaces/QC/murat.jpeg'\n",
    "\n",
    "image = Image.open(image_path)\n",
    "image = image.resize((image_width, image_height))\n",
    "image = np.array(image)\n",
    "\n",
    "image = np.random.randint(1, 255, size=3*image_width*image_height).reshape(image_width, image_height,3)\n",
    "#image = np.array((3,2,2,3,3,2,2,3)).reshape(2,4)\n",
    "#image = np.array((1,1,1,1)).reshape(2,2)\n",
    "#image = np.array((3,2,2,3)).reshape(2,2)\n",
    "# image = np.array((1,2,3,4)).reshape(2,2)\n",
    "#image = np.array((4,1,1,1,1,1,1,4)).reshape(2,4)\n",
    "#image = np.array((1,2,3,4,1,2,3,4)).reshape(2,4)\n",
    "\n",
    "#image = image/np.max(image)\n",
    "#print(image)\n",
    "print(\"Shape of origianl image:\", image.shape)\n",
    "plt.imshow(image)\n",
    "modular_image = classical_encode(image, M=M, N=N)\n",
    "modular_image = np.round(modular_image)\n",
    "modular_image = modular_image.astype(int)\n",
    "\n",
    "num_qubits = get_qubits(image_width=image_width, image_height=image_height)\n",
    "print(f\"Number of qubits to initialise is:{num_qubits}\")\n",
    "amplitude_encoded, rms, pixel_num, img_max = amplitude_encode(modular_image, num_qubits=num_qubits)"
   ]
  },
  {
   "cell_type": "code",
   "execution_count": 63,
   "metadata": {},
   "outputs": [
    {
     "data": {
      "image/png": "[encoded data removed]",
      "text/plain": [
       "<Figure size 700x500 with 1 Axes>"
      ]
     },
     "metadata": {},
     "output_type": "display_data"
    },
    {
     "name": "stdout",
     "output_type": "stream",
     "text": [
      "{'0000': 2667, '0001': 2758, '0010': 2426, '0011': 43705, '0100': 19819, '0101': 6639, '0110': 3539, '0111': 17337, '1000': 1110}\n"
     ]
    }
   ],
   "source": [
    "num_channel_state_qubits = 8\n",
    "quant_reg = QuantumRegister(num_qubits+num_channel_state_qubits, 'q')\n",
    "class_state = ClassicalRegister(num_qubits, 'cs')\n",
    "class_channel = ClassicalRegister(num_qubits, 'cc')\n",
    "class_measure = ClassicalRegister(num_qubits, 'cm')\n",
    "\n",
    "#qc= QuantumCircuit(quant_reg, class_state, class_channel, class_measure)\n",
    "qc= QuantumCircuit(num_qubits)\n",
    "qc.initialize(amplitude_encoded, range(0, num_qubits))\n",
    "# qc.h([num_qubits, num_qubits+2, num_qubits+4, num_qubits+6])\n",
    "# qc.cx(num_qubits,num_qubits+1)\n",
    "# qc.cx(num_qubits+2,num_qubits+3)\n",
    "# qc.cx(num_qubits+4,num_qubits+5)\n",
    "# qc.cx(num_qubits+6,num_qubits+7)\n",
    "# qc.swap(num_qubits, num_channel_state_qubits+num_qubits-1)\n",
    "# qc.swap(num_qubits+1, num_qubits+3)\n",
    "# qc.swap(num_qubits+4, num_qubits+6)\n",
    "# qc.swap(num_qubits+2, num_qubits+5)\n",
    "\n",
    "# qc.barrier()\n",
    "# qc.cx(0,4)\n",
    "# qc.h(0)\n",
    "# qc.cx(1,5)\n",
    "# qc.h(1)\n",
    "# qc.cx(2,6)\n",
    "# qc.h(2)\n",
    "# qc.cx(3,7)\n",
    "# qc.h(3)\n",
    "\n",
    "# qc.measure(quant_reg[0:4], class_state[:])\n",
    "# qc.measure(quant_reg[4:8], class_channel[:])\n",
    "\n",
    "# qc.x(quant_reg[8]).c_if(class_channel[0], 1)\n",
    "# qc.x(quant_reg[9]).c_if(class_channel[1], 1)\n",
    "# qc.x(quant_reg[10]).c_if(class_channel[2], 1)\n",
    "# qc.x(quant_reg[11]).c_if(class_channel[3], 1)\n",
    "\n",
    "# qc.z(quant_reg[8]).c_if(class_state[0], 1)\n",
    "# qc.z(quant_reg[9]).c_if(class_state[1], 1)\n",
    "# qc.z(quant_reg[10]).c_if(class_state[2], 1)\n",
    "# qc.z(quant_reg[11]).c_if(class_state[3], 1)\n",
    "\n",
    "# qc.measure([8,9,10,11], class_measure[:])\n",
    "# qc.draw('mpl', fold=10000)\n",
    "\n",
    "qc.measure_all()\n",
    "result = AerSimulator(enable_truncation=False,shots=100000).run(qc).result()\n",
    "statistics = result.get_counts(qc)\n",
    "display(plot_histogram(statistics))\n",
    "sorted_statistics = dict(sorted(statistics.items(), key=lambda x: x[0]))\n",
    "print(sorted_statistics)\n",
    "\n",
    "\n",
    "# qc= QuantumCircuit(quant_reg, class_state, class_channel, class_measure)\n",
    "# output in the form class_measure class_channel class_state"
   ]
  },
  {
   "cell_type": "code",
   "execution_count": 64,
   "metadata": {},
   "outputs": [
    {
     "data": {
      "text/plain": [
       "['0000',\n",
       " '0001',\n",
       " '0010',\n",
       " '0011',\n",
       " '0100',\n",
       " '0101',\n",
       " '0110',\n",
       " '0111',\n",
       " '1000',\n",
       " '1001',\n",
       " '1010',\n",
       " '1011',\n",
       " '1100',\n",
       " '1101',\n",
       " '1110',\n",
       " '1111']"
      ]
     },
     "execution_count": 64,
     "metadata": {},
     "output_type": "execute_result"
    }
   ],
   "source": [
    "# backend = Aer.get_backend('qasm_simulator')\n",
    "# # Transpile the circuit for the backend\n",
    "# transpiled_circuit = transpile(qc, backend)\n",
    "# depth = transpiled_circuit.depth()\n",
    "# print(depth)\n",
    "# #transpiled_circuit.draw('mpl', fold=10000)\n",
    "\n",
    "from itertools import product\n",
    "\n",
    "# Generate all combinations of arranging 0s and 1s in groups of 5\n",
    "combinations = list(product([0, 1], repeat=4))\n",
    "\n",
    "# Print the combinations\n",
    "basis_states = []\n",
    "for combination in combinations:\n",
    "    basis_states.append(''.join(filter(str.isdigit, str(combination))))\n",
    "\n",
    "basis_states"
   ]
  },
  {
   "cell_type": "code",
   "execution_count": 65,
   "metadata": {},
   "outputs": [
    {
     "data": {
      "text/plain": [
       "array([0.16327556, 0.1671714 , 0.15871535, 0.66114179, 0.44543038,\n",
       "       0.25774188, 0.18523426, 0.41584712, 0.10495773, 0.        ,\n",
       "       0.        , 0.        , 0.        , 0.        , 0.        ,\n",
       "       0.        ])"
      ]
     },
     "execution_count": 65,
     "metadata": {},
     "output_type": "execute_result"
    }
   ],
   "source": [
    "amplitude_encoded\n"
   ]
  },
  {
   "cell_type": "code",
   "execution_count": 66,
   "metadata": {},
   "outputs": [
    {
     "data": {
      "text/plain": [
       "9"
      ]
     },
     "execution_count": 66,
     "metadata": {},
     "output_type": "execute_result"
    }
   ],
   "source": [
    "basis_states = sorted(list(dict(statistics).keys()))\n",
    "sorted_statistics = dict(sorted(statistics.items(), key=lambda x: x[0]))\n",
    "len(sorted_statistics)\n",
    "#sorted_statistics"
   ]
  },
  {
   "cell_type": "code",
   "execution_count": 67,
   "metadata": {},
   "outputs": [
    {
     "data": {
      "text/plain": [
       "{'0000': 2667,\n",
       " '0001': 2758,\n",
       " '0010': 2426,\n",
       " '0011': 43705,\n",
       " '0100': 19819,\n",
       " '0101': 6639,\n",
       " '0110': 3539,\n",
       " '0111': 17337,\n",
       " '1000': 1110}"
      ]
     },
     "execution_count": 67,
     "metadata": {},
     "output_type": "execute_result"
    }
   ],
   "source": [
    "# list(sorted_statistics.keys())[0].split(' ')[0]\n",
    "sorted_statistics2 = {}\n",
    "for basis in basis_states:\n",
    "    # print(basis)\n",
    "    # print(sum([value for key,value in sorted_statistics.items() if key[0:4]=='0000']))\n",
    "    sorted_statistics2[basis] = sum([value for key,value in sorted_statistics.items() if key[0:4]==basis])\n",
    "\n",
    "sorted_statistics2"
   ]
  },
  {
   "cell_type": "code",
   "execution_count": 74,
   "metadata": {},
   "outputs": [],
   "source": [
    "amplitudes = np.array(list(dict(sorted_statistics2).values()))\n",
    "probabilities = amplitudes/np.sum(amplitudes)\n",
    "decoded_result = np.sqrt(probabilities)\n",
    "decoded_result = decoded_result*(rms)*img_max\n",
    "nonzero_indices = np.nonzero(decoded_result)\n",
    "decoded_result = decoded_result[nonzero_indices]\n",
    "decoded_result = decoded_result.reshape(modular_image.shape)\n",
    "decoded_result = np.round(decoded_result)\n",
    "decoded_result = decoded_result.astype(int)\n",
    "# print(decoded_result/max(decoded_result))\n",
    "#print(image)"
   ]
  },
  {
   "cell_type": "code",
   "execution_count": 69,
   "metadata": {},
   "outputs": [
    {
     "name": "stderr",
     "output_type": "stream",
     "text": [
      "Clipping input data to the valid range for imshow with RGB data ([0..1] for floats or [0..255] for integers).\n"
     ]
    },
    {
     "name": "stdout",
     "output_type": "stream",
     "text": [
      "(array([], dtype=int64), array([], dtype=int64))\n",
      "(array([], dtype=int64), array([], dtype=int64))\n",
      "(array([], dtype=int64), array([], dtype=int64))\n"
     ]
    },
    {
     "data": {
      "image/png": "[encoded data removed]",
      "text/plain": [
       "<Figure size 640x480 with 4 Axes>"
      ]
     },
     "metadata": {},
     "output_type": "display_data"
    }
   ],
   "source": [
    "reconstructed_image = classical_decode(decoded_result, M=M, N=N)\n",
    "#reconstructed_image\n",
    "\n",
    "fig, axs = plt.subplots(1, 4)\n",
    "axs[0].imshow(image)\n",
    "axs[0].axis('off')\n",
    "axs[1].imshow(modular_image/np.max(image))\n",
    "axs[1].axis('off')\n",
    "axs[2].imshow(decoded_result/np.max(decoded_result))\n",
    "axs[2].axis('off')\n",
    "axs[3].imshow(reconstructed_image)\n",
    "axs[3].axis('off')\n",
    "plt.subplots_adjust(wspace=0.2)\n",
    "plt.show()"
   ]
  },
  {
   "cell_type": "code",
   "execution_count": 75,
   "metadata": {},
   "outputs": [
    {
     "name": "stdout",
     "output_type": "stream",
     "text": [
      "modular_image\n",
      "[[ 4691558  4803501  4560525]\n",
      " [18997240 12798991  7405952]\n",
      " [ 5322519 11948946  3015854]]\n",
      "\n",
      "decoded_modular_image\n",
      "[[ 4692534  4771919  4475497]\n",
      " [18995969 12791950  7403673]\n",
      " [ 5405504 11964178  3027313]]\n",
      "\n",
      "original_image\n",
      "[[[ 52  38 158]\n",
      "  [ 53 111 201]\n",
      "  [ 50 201 225]]\n",
      "\n",
      " [[211  24  40]\n",
      "  [142  63  91]\n",
      "  [ 82  86 152]]\n",
      "\n",
      " [[ 59  41 219]\n",
      "  [132 229 246]\n",
      "  [ 33 152 254]]]\n",
      "\n",
      "reconstructed_image\n",
      "[[[ 52  41 234]\n",
      "  [ 53   6 119]\n",
      "  [ 49 218  97]]\n",
      "\n",
      " [[211  19 269]\n",
      "  [142  39 250]\n",
      "  [ 82  78 273]]\n",
      "\n",
      " [[ 60  18 104]\n",
      "  [132 280 178]\n",
      "  [ 33 191  13]]]\n"
     ]
    }
   ],
   "source": [
    "print('modular_image')\n",
    "print(modular_image)\n",
    "print('\\ndecoded_modular_image')\n",
    "print(decoded_result)\n",
    "print('\\noriginal_image')\n",
    "print(image)\n",
    "print('\\nreconstructed_image')\n",
    "print(reconstructed_image)"
   ]
  },
  {
   "cell_type": "code",
   "execution_count": 13,
   "metadata": {},
   "outputs": [
    {
     "name": "stdout",
     "output_type": "stream",
     "text": [
      "[220 179  52]\n",
      "[[220  52  31]\n",
      " [191  39  98]\n",
      " [207 103  76]\n",
      " [110 289  67]]\n"
     ]
    }
   ],
   "source": [
    "tt = image[0,0,:]\n",
    "ttt = reconstructed_image[0]\n",
    "print(tt)\n",
    "print(ttt)\n",
    "\n"
   ]
  },
  {
   "cell_type": "code",
   "execution_count": 160,
   "metadata": {},
   "outputs": [
    {
     "name": "stdout",
     "output_type": "stream",
     "text": [
      "Shape of classical modular encoded image is (1, 1)\n",
      "There are a total of(array([], dtype=int64), array([], dtype=int64), array([], dtype=int64))\n",
      "(array([], dtype=int64), array([], dtype=int64))\n",
      "(array([], dtype=int64), array([], dtype=int64))\n",
      "(array([], dtype=int64), array([], dtype=int64))\n",
      "---------- [[12851724]] [[[142 239  24]]]\n",
      "(1, 1)\n"
     ]
    }
   ],
   "source": [
    "M_test =  M\n",
    "N_test = N\n",
    "image_width = 1\n",
    "image_height = 1\n",
    "\n",
    "#image = np.random.randint(1, 255, size=3*image_width*image_height).reshape(image_width, image_height,3)\n",
    "image_test = image[0,0,:].reshape(1,1,3)\n",
    "modular_test = classical_encode(image_test, M=M_test, N=N_test)\n",
    "decoded_test = classical_decode(modular_test, M=M_test, N=N_test)\n",
    "\n",
    "orig = modular_test\n",
    "dec = decoded_test\n",
    "\n",
    "b= orig%N\n",
    "g=(orig//N)%M\n",
    "r=(orig//(M*N))%M\n",
    "r_image = np.stack((r,g,b),axis=0)\n",
    "r_image = np.transpose(r_image, (1, 2, 0))\n",
    "\n",
    "print(\"----------\", orig, dec)\n",
    "print(orig.shape)\n",
    "\n",
    "\n",
    "\n",
    "\n",
    "# print(modular_test.shape)\n",
    "# print(decoded_test.shape)\n"
   ]
  },
  {
   "cell_type": "code",
   "execution_count": 8,
   "metadata": {},
   "outputs": [
    {
     "name": "stdout",
     "output_type": "stream",
     "text": [
      "142 142 0\n",
      "239 239 0\n",
      "24 24 0\n"
     ]
    }
   ],
   "source": [
    "#y = 12833557\n",
    "x = 12851724\n",
    "y = x\n",
    "diff = x-y\n",
    "\n",
    "b= x%N\n",
    "g=(x//N)%M\n",
    "r=(x//(M*N))%M\n",
    "\n",
    "b1= y%N\n",
    "g1=(y//N)%M\n",
    "r1=(y//(M*N))%M\n",
    "\n",
    "b2= diff%N\n",
    "g2=(diff//N)%M\n",
    "r2=(diff//(M*N))%M\n",
    "\n",
    "print(r, r1, r2)\n",
    "print(g, g1, g2)\n",
    "print(b, b1, b2)"
   ]
  },
  {
   "cell_type": "code",
   "execution_count": 15,
   "metadata": {},
   "outputs": [
    {
     "name": "stdout",
     "output_type": "stream",
     "text": [
      "142 142 0\n",
      "239 238 0\n",
      "24 299 25\n"
     ]
    }
   ],
   "source": [
    "#y = 12833557\n",
    "x = 12851724\n",
    "y = x-25\n",
    "diff = x-y\n",
    "\n",
    "b= x%N\n",
    "g=(x//N)%M\n",
    "r=(x//(M*N))%M\n",
    "\n",
    "b1= y%N\n",
    "g1=(y//N)%M\n",
    "r1=(y//(M*N))%M\n",
    "\n",
    "b2= diff%N\n",
    "g2=(diff//N)%M\n",
    "r2=(diff//(M*N))%M\n",
    "\n",
    "print(r, r1, r2)\n",
    "print(g, g1, g2)\n",
    "print(b, b1, b2)"
   ]
  },
  {
   "cell_type": "code",
   "execution_count": 11,
   "metadata": {},
   "outputs": [
    {
     "name": "stdout",
     "output_type": "stream",
     "text": [
      "(3, 2, 1)\n",
      "[[[1 2 3]]\n",
      "\n",
      " [[1 2 3]]]\n",
      "(2, 1, 3)\n",
      "(2, 1)\n"
     ]
    }
   ],
   "source": [
    "a = np.array([1,1]).reshape(2,1)\n",
    "b = np.array([2,2]).reshape(2,1)\n",
    "c = np.array([3,3]).reshape(2,1)\n",
    "d = np.stack((a,b,c),axis=0)\n",
    "print(d.shape)\n",
    "d = np.transpose(d, (1, 2, 0))\n",
    "print(d)\n",
    "print(d.shape)\n",
    "print(d[:,:,2].shape)\n"
   ]
  },
  {
   "cell_type": "code",
   "execution_count": null,
   "metadata": {},
   "outputs": [],
   "source": [
    "print(image)\n",
    "print(decoded_result)\n",
    "fig, axs = plt.subplots(1, 2)\n",
    "axs[0].imshow(image)\n",
    "axs[0].axis('off')\n",
    "axs[1].imshow(decoded_result)\n",
    "axs[1].axis('off')\n",
    "plt.show()"
   ]
  },
  {
   "cell_type": "code",
   "execution_count": 65,
   "metadata": {},
   "outputs": [
    {
     "data": {
      "text/plain": [
       "['0000',\n",
       " '0001',\n",
       " '0010',\n",
       " '0011',\n",
       " '0100',\n",
       " '0101',\n",
       " '0110',\n",
       " '0111',\n",
       " '1000',\n",
       " '1001',\n",
       " '1010',\n",
       " '1011',\n",
       " '1100',\n",
       " '1101',\n",
       " '1110',\n",
       " '1111']"
      ]
     },
     "execution_count": 65,
     "metadata": {},
     "output_type": "execute_result"
    }
   ],
   "source": []
  },
  {
   "cell_type": "code",
   "execution_count": null,
   "metadata": {},
   "outputs": [],
   "source": [
    "three_ghz = QuantumCircuit(3)\n",
    "three_ghz.h(0)\n",
    "three_ghz.cx(0,1)\n",
    "three_ghz.cx(0,2) #alternativelya, you can use a cnot/cx gate here with qubit 1 (control) and qubit 2 (target)\n",
    "depth = three_ghz.depth()\n",
    "sv = Statevector.from_instruction(three_ghz).probabilities_dict(decimals=1)\n",
    "print('Depth: ', depth)\n",
    "print('Probabilities dict from statevector: ', sv)\n",
    "three_ghz.draw('mpl')"
   ]
  },
  {
   "cell_type": "code",
   "execution_count": null,
   "metadata": {},
   "outputs": [],
   "source": [
    "# Initialize some global variable for number of qubits\n",
    "data_qb = 6\n",
    "anc_qb = 1\n",
    "total_qb = data_qb + anc_qb\n",
    "\n",
    "# Initialize the amplitude permutation unitary\n",
    "D2n_1 = np.roll(np.identity(2**total_qb), 1, axis=1)\n",
    "\n",
    "# def understand_np_dot_roll():\n",
    "#     arr = np.random.randint(1, 9, 16).reshape(4,4) * np.identity(4)\n",
    "#     print(\"Random matrix generated\\n\", arr)\n",
    "#     print(\"Shifting image by 1 in axis=1(x-axis)\\n\", np.roll(arr, 1, axis=1))\n",
    "#     print(\"Shifting image by 1 in axis=1(x-axis) and by 1 in axis=0(y-axis) \\n\", np.roll(arr, (1,1), axis=(0,1)))\n",
    "# understand_np_dot_roll()"
   ]
  },
  {
   "cell_type": "code",
   "execution_count": null,
   "metadata": {},
   "outputs": [],
   "source": [
    "#submission to part 1, you should make this into a .py file\n",
    "n=len(images)\n",
    "mse=0\n",
    "gatecount=0\n",
    "num_qubits = 8\n",
    "\n",
    "\n",
    "def plot_image(img, title='Reconstructed image'):\n",
    "    plt.title(title)\n",
    "    plt.xticks(range(img.shape[0]))\n",
    "    plt.yticks(range(img.shape[1]))\n",
    "    plt.imshow(img, extent=[0, img.shape[0], img.shape[1], 0], cmap='viridis')\n",
    "    plt.show()\n",
    "    \n",
    "def encode(image):\n",
    "    image_norm_h, rms, pixel_num = amplitude_encode(image)\n",
    "    num_qubits = int(np.log2(pixel_num))\n",
    "    print(f\"{num_qubits} initialised for this image\")\n",
    "    qc_h = QuantumCircuit(num_qubits)\n",
    "    qc_h.initialize(image_norm_h, range(0, num_qubits))\n",
    "    return qc_h, rms, num_qubits\n",
    "\n",
    "def simulate(circuit, show_histogram=True):\n",
    "    backend = Aer.get_backend('statevector_simulator')\n",
    "    job = execute(circuit, backend)\n",
    "    result = job.result()\n",
    "    statevector = result.get_statevector()\n",
    "    probabilities = np.array(np.abs(statevector)**2)\n",
    "    if show_histogram:\n",
    "        plt.bar(range((2**circuit.num_qubits)), probabilities)\n",
    "        plt.xlabel('Basis State')\n",
    "        plt.ylabel('Probability')\n",
    "        plt.show()\n",
    "    return probabilities\n",
    "\n",
    "def decode(probabilities, rms):\n",
    "    prob_sqrt = np.sqrt(probabilities)\n",
    "    reconstructed_image = prob_sqrt * rms\n",
    "    dim = int(np.sqrt(len(reconstructed_image)))\n",
    "    return reconstructed_image.reshape(dim, dim)\n",
    "\n",
    "def run_part1(image):\n",
    "    #encode image into a circuit\n",
    "    circuit, rms, num_qubits = encode(image)\n",
    "\n",
    "    #simulate circuit\n",
    "    histogram=simulate(circuit, show_histogram=False)\n",
    "\n",
    "    #reconstruct the image\n",
    "    image_re=decode(histogram, rms)\n",
    "\n",
    "    return circuit,image_re, num_qubits \n",
    "\n",
    "def resize_iamges(dataset, resized_dimention=16):\n",
    "    temp_dataset = np.empty((dataset.shape[0], resized_dimention, resized_dimention))\n",
    "    for index,img in dataset:\n",
    "        img = Image.fromarray(img)\n",
    "        img = np.array(img.resize((resized_dimention, resized_dimention)))\n",
    "        temp_dataset[index] = img\n",
    "    return temp_dataset\n",
    "\n",
    "\n",
    "\n",
    "\n",
    "qubits_list = list(range(num_qubits))\n",
    "feature_map = ZFeatureMap(num_qubits)  # initialise feature map to capture total pixels\n",
    "\n",
    "ansatz = QuantumCircuit(8, name=\"Ansatz\")\n",
    "\n",
    "# First Convolutional Layer\n",
    "ansatz.compose(conv_layer(8, \"с1\"), qubits=list(range(8)), inplace=True)\n",
    "# First Pooling Layer\n",
    "ansatz.compose(pool_layer([0, 1, 2, 3], [4, 5, 6, 7], \"p1\"), list(range(8)), inplace=True)\n",
    "\n",
    "# Second Convolutional Layer\n",
    "ansatz.compose(conv_layer(4, \"c2\"), list(range(4, 8)), inplace=True)\n",
    "# Second Pooling Layer\n",
    "ansatz.compose(pool_layer([0, 1], [2, 3], \"p2\"), list(range(4, 8)), inplace=True)\n",
    "\n",
    "# Third Convolutional Layer\n",
    "ansatz.compose(conv_layer(2, \"c3\"), list(range(6, 8)), inplace=True)\n",
    "# Third Pooling Layer\n",
    "ansatz.compose(pool_layer([0], [1], \"p3\"), list(range(6, 8)), inplace=True)\n",
    "   \n",
    "\n",
    "#print(ansatz.parameters)\n",
    "circuit.compose(feature_map, range(8), inplace=True)\n",
    "#circuit.append(feature_map, range(num_qubits))\n",
    "circuit.compose(ansatz, range(8), inplace=True)\n",
    "#circuit.append(ansatz, range(num_qubits))\n",
    "\n",
    "#circuit.decompose().draw(\"mpl\", fold=-1)\n",
    "\n",
    "# circuit2, test_image2 = run_part1(img.T)\n",
    "#plot_image(test_image)"
   ]
  },
  {
   "cell_type": "code",
   "execution_count": null,
   "metadata": {},
   "outputs": [],
   "source": [
    "observable = SparsePauliOp.from_list([(\"Z\" + \"I\" * 7, 1)])\n",
    "\n",
    "# we decompose the circuit for the QNN to avoid additional data copying\n",
    "qnn = EstimatorQNN(\n",
    "    circuit=circuit.decompose(),\n",
    "    observables=observable,\n",
    "    input_params=feature_map.parameters,\n",
    "    weight_params=ansatz.parameters,\n",
    ")"
   ]
  },
  {
   "cell_type": "code",
   "execution_count": null,
   "metadata": {},
   "outputs": [],
   "source": [
    "x = np.asarray(train_images)\n",
    "y = np.asarray(train_labels)\n",
    "objective_func_vals = []\n",
    "\n",
    "def callback_graph(weights, obj_func_eval):\n",
    "    clear_output(wait=True)\n",
    "    objective_func_vals.append(obj_func_eval)\n",
    "    plt.title(\"Objective function value against iteration\")\n",
    "    plt.xlabel(\"Iteration\")\n",
    "    plt.ylabel(\"Objective function value\")\n",
    "    plt.plot(range(len(objective_func_vals)), objective_func_vals)\n",
    "    plt.show()\n",
    "\n",
    "classifier = NeuralNetworkClassifier(\n",
    "    qnn,\n",
    "    optimizer=COBYLA(maxiter=10),  # Set max iterations here\n",
    "    callback=callback_graph\n",
    ")"
   ]
  },
  {
   "cell_type": "code",
   "execution_count": null,
   "metadata": {},
   "outputs": [],
   "source": [
    "train_images = resize_images(train_images, resized_dimention=16)\n",
    "test_images = resize_images(test_images, resized_dimention=16)\n",
    "\n",
    "classifier.fit(train_images, train_labels)\n",
    "\n",
    "plt.rcParams[\"figure.figsize\"] = (12, 6)\n",
    "# score classifier\n",
    "print(f\"Accuracy from the train data : {np.round(100 * classifier.score(x, y), 2)}%\")"
   ]
  },
  {
   "cell_type": "code",
   "execution_count": null,
   "metadata": {},
   "outputs": [],
   "source": [
    "#how we grade your submission\n",
    "\n",
    "n=len(images)\n",
    "mse=0\n",
    "gatecount=0\n",
    "\n",
    "for data in images:\n",
    "    #encode image into circuit\n",
    "    circuit,image_re=run_part1(data['image'])\n",
    "    \n",
    "    #count the number of 2qubit gates used\n",
    "    gatecount+=count_gates(circuit)[2]\n",
    "    \n",
    "    #calculate mse\n",
    "    mse+=image_mse(data['image'],image_re)\n",
    "    \n",
    "#fidelity of reconstruction\n",
    "f=1-mse/n\n",
    "gatecount=gatecount/n\n",
    "\n",
    "#score for part1 \n",
    "print(f*(0.999**gatecount))"
   ]
  },
  {
   "cell_type": "code",
   "execution_count": null,
   "metadata": {},
   "outputs": [],
   "source": [
    "def conv_circuit(params):\n",
    "    \"\"\"\n",
    "    params is a parameter vector\n",
    "    \"\"\"\n",
    "    target = QuantumCircuit(2)\n",
    "    target.rz(-np.pi / 2, 1)\n",
    "    target.cx(1, 0)\n",
    "    target.rz(params[0], 0)\n",
    "    target.ry(params[1], 1)\n",
    "    target.cx(0, 1)\n",
    "    target.ry(params[2], 1)\n",
    "    target.cx(1, 0)\n",
    "    target.rz(np.pi / 2, 0)\n",
    "    return target\n",
    "\n",
    "# # Let's draw this circuit and see what it looks like\n",
    "# params = ParameterVector(\"θ\", length=3)\n",
    "# circuit = conv_circuit(params)\n",
    "# circuit.draw(\"mpl\")\n",
    "\n",
    "def conv_layer(num_qubits, param_prefix):\n",
    "    qc = QuantumCircuit(num_qubits, name=\"Convolutional Layer\")\n",
    "    qubits = list(range(num_qubits))\n",
    "    param_index = 0\n",
    "    params = ParameterVector(param_prefix, length=num_qubits * 3)\n",
    "    for q1, q2 in zip(qubits[0::2], qubits[1::2]):\n",
    "        qc = qc.compose(conv_circuit(params[param_index : (param_index + 3)]), [q1, q2])\n",
    "        qc.barrier()\n",
    "        param_index += 3\n",
    "        #print('qi',q1,'q2',q2)\n",
    "    for q1, q2 in zip(qubits[1::2], qubits[2::2] + [0]):\n",
    "        qc = qc.compose(conv_circuit(params[param_index : (param_index + 3)]), [q1, q2])\n",
    "        qc.barrier()\n",
    "        param_index += 3\n",
    "\n",
    "    qc_inst = qc.to_instruction()\n",
    "\n",
    "    qc = QuantumCircuit(num_qubits)\n",
    "    qc.append(qc_inst, qubits)\n",
    "    return qc\n",
    "\n",
    "# circuit = conv_layer(4, \"θ\")\n",
    "# circuit.decompose().draw(\"mpl\", fold=100)\n",
    "\n",
    "\n",
    "def pool_circuit(params):\n",
    "    target = QuantumCircuit(2)\n",
    "    target.rz(-np.pi / 2, 1)\n",
    "    target.cx(1, 0)\n",
    "    target.rz(params[0], 0)\n",
    "    target.ry(params[1], 1)\n",
    "    target.cx(0, 1)\n",
    "    target.ry(params[2], 1)\n",
    "\n",
    "    return target\n",
    "\n",
    "# params = ParameterVector(\"θ\", length=3)\n",
    "# circuit = pool_circuit(params)\n",
    "# circuit.draw(\"mpl\")\n",
    "\n",
    "\n",
    "def pool_layer(sources, sinks, param_prefix):\n",
    "    num_qubits = len(sources) + len(sinks)\n",
    "    qc = QuantumCircuit(num_qubits, name=\"Pooling Layer\")\n",
    "    param_index = 0\n",
    "    params = ParameterVector(param_prefix, length=num_qubits // 2 * 3)\n",
    "    for source, sink in zip(sources, sinks):\n",
    "        qc = qc.compose(pool_circuit(params[param_index : (param_index + 3)]), [source, sink])\n",
    "        qc.barrier()\n",
    "        param_index += 3\n",
    "\n",
    "    qc_inst = qc.to_instruction()\n",
    "\n",
    "    qc = QuantumCircuit(num_qubits)\n",
    "    qc.append(qc_inst, range(num_qubits))\n",
    "    return qc\n",
    "\n",
    "# sources = [0, 1] # qubits from which information will be 'transferred'\n",
    "# sinks = [2, 3] #qubits to which transferred information will be encoded\n",
    "# circuit = pool_layer(sources, sinks, \"θ\")\n",
    "# circuit.decompose().draw(\"mpl\")"
   ]
  },
  {
   "cell_type": "code",
   "execution_count": null,
   "metadata": {},
   "outputs": [],
   "source": []
  },
  {
   "cell_type": "code",
   "execution_count": 6,
   "metadata": {},
   "outputs": [
    {
     "data": {
      "image/png": "[encoded data removed]",
      "text/plain": [
       "<Figure size 329.554x284.278 with 1 Axes>"
      ]
     },
     "execution_count": 6,
     "metadata": {},
     "output_type": "execute_result"
    }
   ],
   "source": []
  },
  {
   "cell_type": "code",
   "execution_count": null,
   "metadata": {},
   "outputs": [],
   "source": []
  },
  {
   "cell_type": "markdown",
   "metadata": {},
   "source": [
    "# BB84"
   ]
  },
  {
   "cell_type": "code",
   "execution_count": 17,
   "metadata": {},
   "outputs": [],
   "source": [
    "from random import choices\n",
    "from qiskit.circuit.library import XGate, ZGate, HGate, IGate"
   ]
  },
  {
   "cell_type": "code",
   "execution_count": 33,
   "metadata": {},
   "outputs": [
    {
     "name": "stdout",
     "output_type": "stream",
     "text": [
      "a strings: [0, 1, 1, 0, 1, 1, 0, 0, 0, 1, 1, 0, 1, 1, 0] \n",
      "b strings: [0, 0, 1, 1, 1, 0, 1, 1, 0, 1, 1, 0, 0, 1, 0]\n"
     ]
    },
    {
     "data": {
      "text/html": [
       "<pre style=\"word-wrap: normal;white-space: pre;background: #fff0;line-height: 1.1;font-family: &quot;Courier New&quot;,Courier,monospace\">      ┌───┐┌───┐\n",
       " q_0: ┤ I ├┤ I ├\n",
       "      ├───┤├───┤\n",
       " q_1: ┤ X ├┤ I ├\n",
       "      ├───┤├───┤\n",
       " q_2: ┤ X ├┤ H ├\n",
       "      ├───┤├───┤\n",
       " q_3: ┤ I ├┤ H ├\n",
       "      ├───┤├───┤\n",
       " q_4: ┤ X ├┤ H ├\n",
       "      ├───┤├───┤\n",
       " q_5: ┤ X ├┤ I ├\n",
       "      ├───┤├───┤\n",
       " q_6: ┤ I ├┤ H ├\n",
       "      ├───┤├───┤\n",
       " q_7: ┤ I ├┤ H ├\n",
       "      ├───┤├───┤\n",
       " q_8: ┤ I ├┤ I ├\n",
       "      ├───┤├───┤\n",
       " q_9: ┤ X ├┤ H ├\n",
       "      ├───┤├───┤\n",
       "q_10: ┤ X ├┤ H ├\n",
       "      ├───┤├───┤\n",
       "q_11: ┤ I ├┤ I ├\n",
       "      ├───┤├───┤\n",
       "q_12: ┤ X ├┤ I ├\n",
       "      ├───┤├───┤\n",
       "q_13: ┤ X ├┤ H ├\n",
       "      ├───┤├───┤\n",
       "q_14: ┤ I ├┤ I ├\n",
       "      └───┘└───┘</pre>"
      ],
      "text/plain": [
       "      ┌───┐┌───┐\n",
       " q_0: ┤ I ├┤ I ├\n",
       "      ├───┤├───┤\n",
       " q_1: ┤ X ├┤ I ├\n",
       "      ├───┤├───┤\n",
       " q_2: ┤ X ├┤ H ├\n",
       "      ├───┤├───┤\n",
       " q_3: ┤ I ├┤ H ├\n",
       "      ├───┤├───┤\n",
       " q_4: ┤ X ├┤ H ├\n",
       "      ├───┤├───┤\n",
       " q_5: ┤ X ├┤ I ├\n",
       "      ├───┤├───┤\n",
       " q_6: ┤ I ├┤ H ├\n",
       "      ├───┤├───┤\n",
       " q_7: ┤ I ├┤ H ├\n",
       "      ├───┤├───┤\n",
       " q_8: ┤ I ├┤ I ├\n",
       "      ├───┤├───┤\n",
       " q_9: ┤ X ├┤ H ├\n",
       "      ├───┤├───┤\n",
       "q_10: ┤ X ├┤ H ├\n",
       "      ├───┤├───┤\n",
       "q_11: ┤ I ├┤ I ├\n",
       "      ├───┤├───┤\n",
       "q_12: ┤ X ├┤ I ├\n",
       "      ├───┤├───┤\n",
       "q_13: ┤ X ├┤ H ├\n",
       "      ├───┤├───┤\n",
       "q_14: ┤ I ├┤ I ├\n",
       "      └───┘└───┘"
      ]
     },
     "execution_count": 33,
     "metadata": {},
     "output_type": "execute_result"
    }
   ],
   "source": [
    "num_shots = 15\n",
    "rand_bitstring_a = choices([0,1], k=num_shots)\n",
    "rand_bitstring_alice = choices([0,1], k=num_shots)\n",
    "encode_x_gate = {0: IGate(), 1:XGate() }\n",
    "encode_z_gate = {0: IGate(), 1:HGate() } # this can also be seen as random basis selection where \"X_basis\":IGate and \"Z:basis\":HGate\n",
    "\n",
    "num_qubits = num_shots\n",
    "bb84qubits = QuantumRegister(size=num_qubits, name='q')\n",
    "bb84bits = ClassicalRegister(size=num_qubits, name='c')\n",
    "\n",
    "alice_circuit = QuantumCircuit(bb84qubits)\n",
    "for index in range(num_shots):\n",
    "    x_condition = rand_bitstring_a[index]\n",
    "    z_condition = rand_bitstring_alice[index]\n",
    "    alice_circuit.append(encode_x_gate[x_condition], [index])\n",
    "    alice_circuit.append(encode_z_gate[z_condition], [index])\n",
    "#alice_circuit.barrier()\n",
    "\n",
    "print('a strings:', rand_bitstring_a,\"\\nb strings:\", rand_bitstring_alice)\n",
    "alice_circuit.draw()"
   ]
  },
  {
   "cell_type": "code",
   "execution_count": 80,
   "metadata": {},
   "outputs": [
    {
     "name": "stdout",
     "output_type": "stream",
     "text": [
      "alices key: [0, 1, 1, 0, 1, 1, 0, 0, 0, 1, 1, 0, 1, 1, 0] \n",
      "alice rand bitstring: [0, 0, 1, 1, 1, 0, 1, 1, 0, 1, 1, 0, 0, 1, 0] \n",
      "bobs randbitstring: [1, 0, 0, 1, 1, 0, 1, 0, 1, 1, 0, 0, 1, 0, 0] \n",
      "Overlap indices: (array([ 1,  3,  4,  5,  6,  9, 11, 14]),) \n",
      "Overlap_percent: 0.5333333333333333\n"
     ]
    },
    {
     "data": {
      "text/html": [
       "<pre style=\"word-wrap: normal;white-space: pre;background: #fff0;line-height: 1.1;font-family: &quot;Courier New&quot;,Courier,monospace\">      ┌───┐\n",
       " q_0: ┤ H ├\n",
       "      ├───┤\n",
       " q_1: ┤ I ├\n",
       "      ├───┤\n",
       " q_2: ┤ I ├\n",
       "      ├───┤\n",
       " q_3: ┤ H ├\n",
       "      ├───┤\n",
       " q_4: ┤ H ├\n",
       "      ├───┤\n",
       " q_5: ┤ I ├\n",
       "      ├───┤\n",
       " q_6: ┤ H ├\n",
       "      ├───┤\n",
       " q_7: ┤ I ├\n",
       "      ├───┤\n",
       " q_8: ┤ H ├\n",
       "      ├───┤\n",
       " q_9: ┤ H ├\n",
       "      ├───┤\n",
       "q_10: ┤ I ├\n",
       "      ├───┤\n",
       "q_11: ┤ I ├\n",
       "      ├───┤\n",
       "q_12: ┤ H ├\n",
       "      ├───┤\n",
       "q_13: ┤ I ├\n",
       "      ├───┤\n",
       "q_14: ┤ I ├\n",
       "      └───┘</pre>"
      ],
      "text/plain": [
       "      ┌───┐\n",
       " q_0: ┤ H ├\n",
       "      ├───┤\n",
       " q_1: ┤ I ├\n",
       "      ├───┤\n",
       " q_2: ┤ I ├\n",
       "      ├───┤\n",
       " q_3: ┤ H ├\n",
       "      ├───┤\n",
       " q_4: ┤ H ├\n",
       "      ├───┤\n",
       " q_5: ┤ I ├\n",
       "      ├───┤\n",
       " q_6: ┤ H ├\n",
       "      ├───┤\n",
       " q_7: ┤ I ├\n",
       "      ├───┤\n",
       " q_8: ┤ H ├\n",
       "      ├───┤\n",
       " q_9: ┤ H ├\n",
       "      ├───┤\n",
       "q_10: ┤ I ├\n",
       "      ├───┤\n",
       "q_11: ┤ I ├\n",
       "      ├───┤\n",
       "q_12: ┤ H ├\n",
       "      ├───┤\n",
       "q_13: ┤ I ├\n",
       "      ├───┤\n",
       "q_14: ┤ I ├\n",
       "      └───┘"
      ]
     },
     "execution_count": 80,
     "metadata": {},
     "output_type": "execute_result"
    }
   ],
   "source": [
    "rand_bitstring_bob = choices([0,1], k=num_shots)\n",
    "bob_circuit = QuantumCircuit(bb84qubits)\n",
    "for index in range(num_shots):\n",
    "    z_condition = rand_bitstring_bob[index]\n",
    "    bob_circuit.append(encode_z_gate[z_condition], [index])\n",
    "# bob_circuit.barrier()\n",
    "\n",
    "overlap = np.where(np.array(rand_bitstring_alice) == np.array(rand_bitstring_bob))\n",
    "print('alices key:', rand_bitstring_a,\"\\nalice rand bitstring:\", rand_bitstring_alice, \"\\nbobs randbitstring:\", rand_bitstring_bob,\"\\nOverlap indices:\", overlap, \"\\nOverlap_percent:\",np.size(overlap)/num_shots)\n",
    "bob_circuit.draw()"
   ]
  },
  {
   "cell_type": "code",
   "execution_count": 42,
   "metadata": {},
   "outputs": [],
   "source": [
    "QC = alice_circuit.compose(bob_circuit)\n",
    "QC.measure_all()"
   ]
  },
  {
   "cell_type": "code",
   "execution_count": 43,
   "metadata": {},
   "outputs": [
    {
     "data": {
      "text/html": [
       "<pre style=\"word-wrap: normal;white-space: pre;background: #fff0;line-height: 1.1;font-family: &quot;Courier New&quot;,Courier,monospace\">         ┌───┐┌───┐┌───┐ ░ ┌─┐                                          \n",
       "    q_0: ┤ I ├┤ I ├┤ I ├─░─┤M├──────────────────────────────────────────\n",
       "         ├───┤├───┤├───┤ ░ └╥┘┌─┐                                       \n",
       "    q_1: ┤ X ├┤ I ├┤ I ├─░──╫─┤M├───────────────────────────────────────\n",
       "         ├───┤├───┤├───┤ ░  ║ └╥┘┌─┐                                    \n",
       "    q_2: ┤ X ├┤ H ├┤ I ├─░──╫──╫─┤M├────────────────────────────────────\n",
       "         ├───┤├───┤├───┤ ░  ║  ║ └╥┘┌─┐                                 \n",
       "    q_3: ┤ I ├┤ H ├┤ I ├─░──╫──╫──╫─┤M├─────────────────────────────────\n",
       "         ├───┤├───┤├───┤ ░  ║  ║  ║ └╥┘┌─┐                              \n",
       "    q_4: ┤ X ├┤ H ├┤ I ├─░──╫──╫──╫──╫─┤M├──────────────────────────────\n",
       "         ├───┤├───┤├───┤ ░  ║  ║  ║  ║ └╥┘┌─┐                           \n",
       "    q_5: ┤ X ├┤ I ├┤ I ├─░──╫──╫──╫──╫──╫─┤M├───────────────────────────\n",
       "         ├───┤├───┤├───┤ ░  ║  ║  ║  ║  ║ └╥┘┌─┐                        \n",
       "    q_6: ┤ I ├┤ H ├┤ I ├─░──╫──╫──╫──╫──╫──╫─┤M├────────────────────────\n",
       "         ├───┤├───┤├───┤ ░  ║  ║  ║  ║  ║  ║ └╥┘┌─┐                     \n",
       "    q_7: ┤ I ├┤ H ├┤ I ├─░──╫──╫──╫──╫──╫──╫──╫─┤M├─────────────────────\n",
       "         ├───┤├───┤├───┤ ░  ║  ║  ║  ║  ║  ║  ║ └╥┘┌─┐                  \n",
       "    q_8: ┤ I ├┤ I ├┤ I ├─░──╫──╫──╫──╫──╫──╫──╫──╫─┤M├──────────────────\n",
       "         ├───┤├───┤├───┤ ░  ║  ║  ║  ║  ║  ║  ║  ║ └╥┘┌─┐               \n",
       "    q_9: ┤ X ├┤ H ├┤ I ├─░──╫──╫──╫──╫──╫──╫──╫──╫──╫─┤M├───────────────\n",
       "         ├───┤├───┤├───┤ ░  ║  ║  ║  ║  ║  ║  ║  ║  ║ └╥┘┌─┐            \n",
       "   q_10: ┤ X ├┤ H ├┤ H ├─░──╫──╫──╫──╫──╫──╫──╫──╫──╫──╫─┤M├────────────\n",
       "         ├───┤├───┤├───┤ ░  ║  ║  ║  ║  ║  ║  ║  ║  ║  ║ └╥┘┌─┐         \n",
       "   q_11: ┤ I ├┤ I ├┤ H ├─░──╫──╫──╫──╫──╫──╫──╫──╫──╫──╫──╫─┤M├─────────\n",
       "         ├───┤├───┤├───┤ ░  ║  ║  ║  ║  ║  ║  ║  ║  ║  ║  ║ └╥┘┌─┐      \n",
       "   q_12: ┤ X ├┤ I ├┤ H ├─░──╫──╫──╫──╫──╫──╫──╫──╫──╫──╫──╫──╫─┤M├──────\n",
       "         ├───┤├───┤├───┤ ░  ║  ║  ║  ║  ║  ║  ║  ║  ║  ║  ║  ║ └╥┘┌─┐   \n",
       "   q_13: ┤ X ├┤ H ├┤ H ├─░──╫──╫──╫──╫──╫──╫──╫──╫──╫──╫──╫──╫──╫─┤M├───\n",
       "         ├───┤├───┤├───┤ ░  ║  ║  ║  ║  ║  ║  ║  ║  ║  ║  ║  ║  ║ └╥┘┌─┐\n",
       "   q_14: ┤ I ├┤ I ├┤ H ├─░──╫──╫──╫──╫──╫──╫──╫──╫──╫──╫──╫──╫──╫──╫─┤M├\n",
       "         └───┘└───┘└───┘ ░  ║  ║  ║  ║  ║  ║  ║  ║  ║  ║  ║  ║  ║  ║ └╥┘\n",
       "meas: 15/═══════════════════╩══╩══╩══╩══╩══╩══╩══╩══╩══╩══╩══╩══╩══╩══╩═\n",
       "                            0  1  2  3  4  5  6  7  8  9  10 11 12 13 14</pre>"
      ],
      "text/plain": [
       "         ┌───┐┌───┐┌───┐ ░ ┌─┐                                          \n",
       "    q_0: ┤ I ├┤ I ├┤ I ├─░─┤M├──────────────────────────────────────────\n",
       "         ├───┤├───┤├───┤ ░ └╥┘┌─┐                                       \n",
       "    q_1: ┤ X ├┤ I ├┤ I ├─░──╫─┤M├───────────────────────────────────────\n",
       "         ├───┤├───┤├───┤ ░  ║ └╥┘┌─┐                                    \n",
       "    q_2: ┤ X ├┤ H ├┤ I ├─░──╫──╫─┤M├────────────────────────────────────\n",
       "         ├───┤├───┤├───┤ ░  ║  ║ └╥┘┌─┐                                 \n",
       "    q_3: ┤ I ├┤ H ├┤ I ├─░──╫──╫──╫─┤M├─────────────────────────────────\n",
       "         ├───┤├───┤├───┤ ░  ║  ║  ║ └╥┘┌─┐                              \n",
       "    q_4: ┤ X ├┤ H ├┤ I ├─░──╫──╫──╫──╫─┤M├──────────────────────────────\n",
       "         ├───┤├───┤├───┤ ░  ║  ║  ║  ║ └╥┘┌─┐                           \n",
       "    q_5: ┤ X ├┤ I ├┤ I ├─░──╫──╫──╫──╫──╫─┤M├───────────────────────────\n",
       "         ├───┤├───┤├───┤ ░  ║  ║  ║  ║  ║ └╥┘┌─┐                        \n",
       "    q_6: ┤ I ├┤ H ├┤ I ├─░──╫──╫──╫──╫──╫──╫─┤M├────────────────────────\n",
       "         ├───┤├───┤├───┤ ░  ║  ║  ║  ║  ║  ║ └╥┘┌─┐                     \n",
       "    q_7: ┤ I ├┤ H ├┤ I ├─░──╫──╫──╫──╫──╫──╫──╫─┤M├─────────────────────\n",
       "         ├───┤├───┤├───┤ ░  ║  ║  ║  ║  ║  ║  ║ └╥┘┌─┐                  \n",
       "    q_8: ┤ I ├┤ I ├┤ I ├─░──╫──╫──╫──╫──╫──╫──╫──╫─┤M├──────────────────\n",
       "         ├───┤├───┤├───┤ ░  ║  ║  ║  ║  ║  ║  ║  ║ └╥┘┌─┐               \n",
       "    q_9: ┤ X ├┤ H ├┤ I ├─░──╫──╫──╫──╫──╫──╫──╫──╫──╫─┤M├───────────────\n",
       "         ├───┤├───┤├───┤ ░  ║  ║  ║  ║  ║  ║  ║  ║  ║ └╥┘┌─┐            \n",
       "   q_10: ┤ X ├┤ H ├┤ H ├─░──╫──╫──╫──╫──╫──╫──╫──╫──╫──╫─┤M├────────────\n",
       "         ├───┤├───┤├───┤ ░  ║  ║  ║  ║  ║  ║  ║  ║  ║  ║ └╥┘┌─┐         \n",
       "   q_11: ┤ I ├┤ I ├┤ H ├─░──╫──╫──╫──╫──╫──╫──╫──╫──╫──╫──╫─┤M├─────────\n",
       "         ├───┤├───┤├───┤ ░  ║  ║  ║  ║  ║  ║  ║  ║  ║  ║  ║ └╥┘┌─┐      \n",
       "   q_12: ┤ X ├┤ I ├┤ H ├─░──╫──╫──╫──╫──╫──╫──╫──╫──╫──╫──╫──╫─┤M├──────\n",
       "         ├───┤├───┤├───┤ ░  ║  ║  ║  ║  ║  ║  ║  ║  ║  ║  ║  ║ └╥┘┌─┐   \n",
       "   q_13: ┤ X ├┤ H ├┤ H ├─░──╫──╫──╫──╫──╫──╫──╫──╫──╫──╫──╫──╫──╫─┤M├───\n",
       "         ├───┤├───┤├───┤ ░  ║  ║  ║  ║  ║  ║  ║  ║  ║  ║  ║  ║  ║ └╥┘┌─┐\n",
       "   q_14: ┤ I ├┤ I ├┤ H ├─░──╫──╫──╫──╫──╫──╫──╫──╫──╫──╫──╫──╫──╫──╫─┤M├\n",
       "         └───┘└───┘└───┘ ░  ║  ║  ║  ║  ║  ║  ║  ║  ║  ║  ║  ║  ║  ║ └╥┘\n",
       "meas: 15/═══════════════════╩══╩══╩══╩══╩══╩══╩══╩══╩══╩══╩══╩══╩══╩══╩═\n",
       "                            0  1  2  3  4  5  6  7  8  9  10 11 12 13 14"
      ]
     },
     "execution_count": 43,
     "metadata": {},
     "output_type": "execute_result"
    }
   ],
   "source": [
    "QC.draw()"
   ]
  },
  {
   "cell_type": "code",
   "execution_count": 85,
   "metadata": {},
   "outputs": [
    {
     "name": "stdout",
     "output_type": "stream",
     "text": [
      "{'010110010100010': 1}\n"
     ]
    }
   ],
   "source": [
    "result = AerSimulator(enable_truncation=True,shots=1).run(QC).result()\n",
    "statistics = result.get_counts(QC)\n",
    "#display(plot_histogram(statistics))\n",
    "sorted_statistics = dict(sorted(statistics.items(), key=lambda x: x[0]))\n",
    "print(sorted_statistics)\n",
    "# statistics\n",
    "#011010001100010"
   ]
  },
  {
   "cell_type": "code",
   "execution_count": 82,
   "metadata": {},
   "outputs": [
    {
     "name": "stdout",
     "output_type": "stream",
     "text": [
      "alices key: [0, 1, 1, 0, 1, 1, 0, 0, 0, 1, 1, 0, 1, 1, 0] \n",
      "alice rand bitstring: [0, 0, 1, 1, 1, 0, 1, 1, 0, 1, 1, 0, 0, 1, 0] \n",
      "bobs randbitstring: [1, 0, 0, 1, 1, 0, 1, 0, 1, 1, 0, 0, 1, 0, 0] \n",
      "Overlap indices: (array([ 1,  3,  4,  5,  6,  9, 11, 14]),) \n",
      "Overlap_percent: 0.5333333333333333\n"
     ]
    }
   ],
   "source": [
    "print('alices key:', rand_bitstring_a,\"\\nalice rand bitstring:\", rand_bitstring_alice, \"\\nbobs randbitstring:\", rand_bitstring_bob,\"\\nOverlap indices:\", overlap, \"\\nOverlap_percent:\",np.size(overlap)/num_shots)\n"
   ]
  },
  {
   "cell_type": "code",
   "execution_count": 54,
   "metadata": {},
   "outputs": [
    {
     "data": {
      "text/plain": [
       "429"
      ]
     },
     "execution_count": 54,
     "metadata": {},
     "output_type": "execute_result"
    }
   ],
   "source": [
    "basis_states = sorted(list(dict(statistics).keys()))\n",
    "sorted_statistics = dict(sorted(statistics.items(), key=lambda x: x[0]))\n",
    "len(sorted_statistics)\n"
   ]
  },
  {
   "cell_type": "code",
   "execution_count": 66,
   "metadata": {},
   "outputs": [
    {
     "name": "stdout",
     "output_type": "stream",
     "text": [
      "8\n"
     ]
    }
   ],
   "source": [
    "print(np.size(np.where(np.array(rand_bitstring_alice) == np.array(rand_bitstring_bob))))"
   ]
  },
  {
   "cell_type": "code",
   "execution_count": 2,
   "metadata": {},
   "outputs": [
    {
     "name": "stdout",
     "output_type": "stream",
     "text": [
      "\u001b[33m  DEPRECATION: lark is being installed using the legacy 'setup.py install' method, because it does not have a 'pyproject.toml' and the 'wheel' package is not installed. pip 23.1 will enforce this behaviour change. A possible replacement is to enable the '--use-pep517' option. Discussion can be found at https://github.com/pypa/pip/issues/8559\u001b[0m\u001b[33m\n",
      "\u001b[0m\u001b[33m  DEPRECATION: rpcq is being installed using the legacy 'setup.py install' method, because it does not have a 'pyproject.toml' and the 'wheel' package is not installed. pip 23.1 will enforce this behaviour change. A possible replacement is to enable the '--use-pep517' option. Discussion can be found at https://github.com/pypa/pip/issues/8559\u001b[0m\u001b[33m\n",
      "\u001b[0m\n",
      "\u001b[1m[\u001b[0m\u001b[34;49mnotice\u001b[0m\u001b[1;39;49m]\u001b[0m\u001b[39;49m A new release of pip is available: \u001b[0m\u001b[31;49m23.0.1\u001b[0m\u001b[39;49m -> \u001b[0m\u001b[32;49m24.0\u001b[0m\n",
      "\u001b[1m[\u001b[0m\u001b[34;49mnotice\u001b[0m\u001b[1;39;49m]\u001b[0m\u001b[39;49m To update, run: \u001b[0m\u001b[32;49mpip install --upgrade pip\u001b[0m\n"
     ]
    }
   ],
   "source": [
    "!pip install cirq --quiet"
   ]
  },
  {
   "cell_type": "code",
   "execution_count": 5,
   "metadata": {},
   "outputs": [],
   "source": [
    "import cirq\n",
    "from random import choices\n",
    "\n",
    "num_bits = 5\n",
    "qubits = cirq.NamedQubit.range(num_bits, prefix = 'q')\n",
    "alice_key = choices([0, 1], k = num_bits)\n",
    "alice_bases = choices(['Z', 'X'], k = num_bits)\n",
    "\n",
    "encode_gates = {0: cirq.I, 1: cirq.X}\n",
    "basis_gates = {'Z': cirq.I, 'X': cirq.H}\n",
    "\n",
    "\n",
    "alice_circuit = cirq.Circuit()\n",
    "\n",
    "for bit in range(num_bits):\n",
    "\n",
    " encode_value = alice_key[bit]\n",
    " encode_gate = encode_gates[encode_value]\n",
    "\n",
    " basis_value = alice_bases[bit]\n",
    " basis_gate = basis_gates[basis_value]\n",
    "\n",
    " qubit = qubits[bit]\n",
    " alice_circuit.append(encode_gate(qubit))\n",
    " alice_circuit.append(basis_gate(qubit))\n",
    "\n"
   ]
  },
  {
   "cell_type": "code",
   "execution_count": 7,
   "metadata": {},
   "outputs": [],
   "source": [
    "bob_bases = choices(['Z', 'X'], k = num_bits)\n",
    "\n",
    "bob_circuit = cirq.Circuit()\n",
    "for bit in range(num_bits):\n",
    " basis_value = bob_bases[bit]\n",
    " basis_gate = basis_gates[basis_value]\n",
    "\n",
    " qubit = qubits[bit]\n",
    " bob_circuit.append(basis_gate(qubit))\n",
    "\n",
    "bob_circuit.append(cirq.measure(qubits, key = 'bob key'))\n"
   ]
  },
  {
   "cell_type": "code",
   "execution_count": 15,
   "metadata": {},
   "outputs": [
    {
     "name": "stdout",
     "output_type": "stream",
     "text": [
      "[1 1 1 0 0]\n"
     ]
    }
   ],
   "source": [
    "bb84_circuit = alice_circuit + bob_circuit\n",
    "\n",
    "sim = cirq.Simulator()\n",
    "results = sim.run(bb84_circuit, repetitions=1000)\n",
    "bob_key = results.measurements['bob key'][0]\n",
    "\n",
    "print(bob_key)\n",
    "\n",
    "final_alice_key = []\n",
    "final_bob_key = []\n",
    "\n",
    "for bit in range(num_bits):\n",
    "\n",
    " if alice_bases[bit] == bob_bases[bit]:\n",
    "    final_alice_key.append(alice_key[bit])\n",
    "    final_bob_key.append(bob_key[bit])\n",
    "\n",
    "\n",
    "\n",
    "# if final_alice_key[0] == final_bob_key[0]:\n",
    "#  final_alice_key = final_alice_key[1:]\n",
    "#  final_bob_key = final_bob_key[1:]\n",
    "#  print('We can use our keys!')\n",
    "\n",
    "# else:\n",
    "#  print('Eve was listening, we need to use a different channel!')"
   ]
  },
  {
   "cell_type": "code",
   "execution_count": 15,
   "metadata": {},
   "outputs": [
    {
     "data": {
      "text/plain": [
       "1.6258288587284668"
      ]
     },
     "execution_count": 15,
     "metadata": {},
     "output_type": "execute_result"
    }
   ],
   "source": [
    "M,N = 355, 255\n",
    "r = np.random.randint(1, 255, size=3).reshape(3, 1)\n",
    "g = np.random.randint(1, 255, size=3).reshape(3, 1)\n",
    "b = np.random.randint(1, 255, size=3).reshape(3, 1)\n",
    "\n",
    "modular_image = (r*M*N)+(g*N)+b\n",
    "\n",
    "Max = np.max(modular_image)\n",
    "normalised = modular_image/Max\n",
    "normalised_squared = normalised**2\n",
    "sum_normalised_squared = np.sum(np.sum(normalised_squared, axis=1))\n",
    "magnitude_modular_image = np.sqrt(sum_normalised_squared)\n",
    "\n",
    "np.sum(normalised/magnitude_modular_image)\n"
   ]
  },
  {
   "cell_type": "code",
   "execution_count": null,
   "metadata": {},
   "outputs": [],
   "source": []
  }
 ],
 "metadata": {
  "kernelspec": {
   "display_name": "qc",
   "language": "python",
   "name": "python3"
  },
  "language_info": {
   "codemirror_mode": {
    "name": "ipython",
    "version": 3
   },
   "file_extension": ".py",
   "mimetype": "text/x-python",
   "name": "python",
   "nbconvert_exporter": "python",
   "pygments_lexer": "ipython3",
   "version": "3.10.13"
  }
 },
 "nbformat": 4,
 "nbformat_minor": 2
}
